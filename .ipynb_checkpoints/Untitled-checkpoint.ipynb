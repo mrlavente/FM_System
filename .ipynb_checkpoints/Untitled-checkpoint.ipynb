{
 "cells": [
  {
   "cell_type": "code",
   "execution_count": 1,
   "id": "818b54bd-e5c2-4707-9d2c-764d86f09d22",
   "metadata": {},
   "outputs": [
    {
     "name": "stdout",
     "output_type": "stream",
     "text": [
      "Estimated coefficients:\n",
      "b_0 = 1.2363636363636363 \t\t\n",
      "b_1 = 1.1696969696969697\n"
     ]
    },
    {
     "data": {
      "image/png": "[encoded data removed]",
      "text/plain": [
       "<Figure size 432x288 with 1 Axes>"
      ]
     },
     "metadata": {
      "needs_background": "light"
     },
     "output_type": "display_data"
    }
   ],
   "source": [
    "import matplotlib.pyplot as plt\n",
    "import numpy as np\n",
    "import pandas as pd\n",
    "\n",
    "data = pd.read_csv('deer.csv')\n",
    "df=data.head()\n",
    "\n",
    "def estimate_coef(Date, Population):\n",
    "\t# number of observations/points\n",
    "\tn = np.size(Date)\n",
    "\n",
    "\t# mean of x and y vector\n",
    "\tm_x = np.mean(Date)\n",
    "\tm_y = np.mean(Population)\n",
    "\n",
    "\t# calculating cross-deviation and deviation about x\n",
    "\tSS_xy = np.sum(Population*Date) - n*m_y*m_x\n",
    "\tSS_xx = np.sum(Date*Date) - n*m_x*m_x\n",
    "\n",
    "\t# calculating regression coefficients\n",
    "\tb_1 = SS_xy / SS_xx\n",
    "\tb_0 = m_y - b_1*m_x\n",
    "\n",
    "\treturn (b_0, b_1)\n",
    "\n",
    "def plot_regression_line(Date, Population, b):\n",
    "\t# plotting the actual points as scatter plot\n",
    "\tplt.scatter(Date, Population, color = \"m\",\n",
    "\t\t\tmarker = \"o\", s = 30)\n",
    "\n",
    "\t# predicted response vector\n",
    "\ty_pred = b[0] + b[1]*Date\n",
    "\n",
    "\t# plotting the regression line\n",
    "\tplt.plot(Date, y_pred, color = \"g\")\n",
    "\n",
    "\t# putting labels\n",
    "\tplt.xlabel('Date')\n",
    "\tplt.ylabel('Population')\n",
    "\n",
    "\t# function to show plot\n",
    "\tplt.show()\n",
    "\n",
    "def main():\n",
    "\t# observations / data\n",
    "\tDate = np.array([0, 1, 2, 3, 4, 5, 6, 7, 8, 9])\n",
    "\tPopulation = np.array([1, 3, 2, 5, 7, 8, 8, 9, 10, 12])\n",
    "\n",
    "\t# estimating coefficients\n",
    "\tb = estimate_coef(Date, Population)\n",
    "\tprint(\"Estimated coefficients:\\nb_0 = {} \\\n",
    "\t\t\\nb_1 = {}\".format(b[0], b[1]))\n",
    "\n",
    "\t# plotting regression line\n",
    "\tplot_regression_line(Date, Population, b)\n",
    "\n",
    "if __name__ == \"__main__\":\n",
    "\tmain()\n"
   ]
  },
  {
   "cell_type": "code",
   "execution_count": null,
   "id": "6756b8af-cc7c-4487-8649-804bd1b3884a",
   "metadata": {},
   "outputs": [],
   "source": []
  }
 ],
 "metadata": {
  "kernelspec": {
   "display_name": "Python 3",
   "language": "python",
   "name": "python3"
  },
  "language_info": {
   "codemirror_mode": {
    "name": "ipython",
    "version": 3
   },
   "file_extension": ".py",
   "mimetype": "text/x-python",
   "name": "python",
   "nbconvert_exporter": "python",
   "pygments_lexer": "ipython3",
   "version": "3.8.8"
  }
 },
 "nbformat": 4,
 "nbformat_minor": 5
}
