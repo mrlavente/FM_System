{
 "cells": [
  {
   "cell_type": "code",
   "execution_count": 13,
   "id": "2fa7a1e9",
   "metadata": {},
   "outputs": [
    {
     "name": "stdout",
     "output_type": "stream",
     "text": [
      "   PopSpecies_code      Date  Population      Location\n",
      "0            11111  1-Mar-17          12  MCP-Lambunao\n",
      "1            11111  1-Jun-17          13  MCP-Lambunao\n",
      "2            11111  1-Sep-17          12  MCP-Lambunao\n",
      "3            11111  1-Dec-17          14  MCP-Lambunao\n",
      "4            11111  1-Mar-18          15  MCP-Lambunao\n",
      "\n",
      " Data Types:\n",
      "PopSpecies_code     int64\n",
      "Date               object\n",
      "Population          int64\n",
      "Location           object\n",
      "dtype: object\n"
     ]
    }
   ],
   "source": [
    "%matplotlib inline\n",
    "import pandas as pd\n",
    "import numpy as np\n",
    "import matplotlib.pyplot as plt\n",
    "import datetime\n",
    "from dateutil.relativedelta import relativedelta\n",
    "import seaborn as sns\n",
    "import statsmodels.api as sm  \n",
    "from statsmodels.tsa.stattools import acf  \n",
    "from statsmodels.tsa.stattools import pacf\n",
    "from statsmodels.tsa.seasonal import seasonal_decompose\n",
    "\n",
    "data = pd.read_csv('deer.csv')\n",
    "df=data.head()\n",
    "print(df)\n",
    "print ('\\n Data Types:')\n",
    "print (data.dtypes)"
   ]
  },
  {
   "cell_type": "code",
   "execution_count": 14,
   "id": "58129dee",
   "metadata": {},
   "outputs": [
    {
     "data": {
      "text/plain": [
       "DatetimeIndex(['2017-03-01', '2017-06-01', '2017-09-01', '2017-12-01',\n",
       "               '2018-03-01', '2018-06-01', '2018-09-01', '2018-12-01',\n",
       "               '2019-03-01', '2019-06-01', '2019-09-01', '2019-12-01',\n",
       "               '2020-03-01', '2020-06-01', '2020-09-01', '2020-12-01'],\n",
       "              dtype='datetime64[ns]', name='Date', freq=None)"
      ]
     },
     "execution_count": 14,
     "metadata": {},
     "output_type": "execute_result"
    }
   ],
   "source": [
    "data['Date']=pd.to_datetime(data['Date'])\n",
    "data.set_index('Date', inplace=True)\n",
    "#check datatype of index\n",
    "data.index"
   ]
  },
  {
   "cell_type": "code",
   "execution_count": 15,
   "id": "6b0dee0b",
   "metadata": {},
   "outputs": [
    {
     "data": {
      "text/plain": [
       "Date\n",
       "2017-03-01    12\n",
       "2017-06-01    13\n",
       "2017-09-01    12\n",
       "2017-12-01    14\n",
       "Name: Population, dtype: int64"
      ]
     },
     "execution_count": 15,
     "metadata": {},
     "output_type": "execute_result"
    }
   ],
   "source": [
    "#convert to time series:\n",
    "data.Population.head(4)"
   ]
  },
  {
   "cell_type": "code",
   "execution_count": 16,
   "id": "0320a3cf",
   "metadata": {},
   "outputs": [
    {
     "data": {
      "image/png": "[encoded data removed]",
      "text/plain": [
       "<Figure size 432x288 with 1 Axes>"
      ]
     },
     "metadata": {
      "needs_background": "light"
     },
     "output_type": "display_data"
    },
    {
     "name": "stdout",
     "output_type": "stream",
     "text": [
      "Results of Dickey-Fuller Test:\n",
      "Test Statistic                 5.866639\n",
      "p-value                        1.000000\n",
      "#Lags Used                     6.000000\n",
      "Number of Observations Used    9.000000\n",
      "Critical Value (1%)           -4.473135\n",
      "Critical Value (5%)           -3.289881\n",
      "Critical Value (10%)          -2.772382\n",
      "dtype: float64\n"
     ]
    }
   ],
   "source": [
    "from statsmodels.tsa.stattools import adfuller\n",
    "def test_stationarity(timeseries):\n",
    "    \n",
    "    \n",
    "    #Determing rolling statistics\n",
    "    #rolmean = pd.rolling_mean(timeseries, window=12)\n",
    "    rolmean = timeseries.rolling(window=4).mean()\n",
    "    #rolstd = pd.rolling_std(timeseries, window=12)\n",
    "    rolstd = timeseries.rolling(window=4).std()\n",
    " \n",
    "\n",
    "    #Plot rolling statistics:\n",
    "    orig = plt.plot(timeseries, color='blue',label='Original')\n",
    "    mean = plt.plot(rolmean, color='red', label='Rolling Mean')\n",
    "    std = plt.plot(rolstd, color='yellow', label = 'Rolling Std')\n",
    "    plt.legend(loc='best')\n",
    "    plt.title('Rolling Mean & Standard Deviation')\n",
    "    plt.show(block=False)\n",
    "     \n",
    "    #Perform Dickey-Fuller test:\n",
    "    print('Results of Dickey-Fuller Test:')\n",
    "    dftest = adfuller(timeseries, autolag='AIC')\n",
    "    dfoutput = pd.Series(dftest[0:4], index=['Test Statistic','p-value','#Lags Used','Number of Observations Used'])\n",
    "    for key,value in dftest[4].items():\n",
    "        dfoutput['Critical Value (%s)'%key] = value\n",
    "    print(dfoutput)\n",
    " \n",
    "\n",
    "test_stationarity(data.Population)"
   ]
  },
  {
   "cell_type": "code",
   "execution_count": 20,
   "id": "1538fd2a",
   "metadata": {},
   "outputs": [
    {
     "ename": "SyntaxError",
     "evalue": "invalid syntax (<ipython-input-20-776ba054392a>, line 6)",
     "output_type": "error",
     "traceback": [
      "\u001b[1;36m  File \u001b[1;32m\"<ipython-input-20-776ba054392a>\"\u001b[1;36m, line \u001b[1;32m6\u001b[0m\n\u001b[1;33m    ADF Statistic: -2.464240\u001b[0m\n\u001b[1;37m        ^\u001b[0m\n\u001b[1;31mSyntaxError\u001b[0m\u001b[1;31m:\u001b[0m invalid syntax\n"
     ]
    }
   ],
   "source": [
    "from statsmodels.tsa.stattools import adfuller\n",
    "from numpy import log\n",
    "result = adfuller(data.Sightings.dropna())\n",
    "print('ADF Statistic: %f'+ result[0])\n",
    "print('p-value: %f' % result[1])\n",
    "ADF Statistic: -2.464240\n",
    "p-value: 0.124419"
   ]
  },
  {
   "cell_type": "code",
   "execution_count": null,
   "id": "d97ae493",
   "metadata": {},
   "outputs": [],
   "source": []
  }
 ],
 "metadata": {
  "kernelspec": {
   "display_name": "Python 3",
   "language": "python",
   "name": "python3"
  },
  "language_info": {
   "codemirror_mode": {
    "name": "ipython",
    "version": 3
   },
   "file_extension": ".py",
   "mimetype": "text/x-python",
   "name": "python",
   "nbconvert_exporter": "python",
   "pygments_lexer": "ipython3",
   "version": "3.8.8"
  }
 },
 "nbformat": 4,
 "nbformat_minor": 5
}
