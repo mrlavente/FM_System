{
 "cells": [
  {
   "cell_type": "code",
   "execution_count": 193,
   "id": "2cdffc92",
   "metadata": {},
   "outputs": [],
   "source": [
    "#import requests\n",
    "import pandas as pd\n",
    "import numpy as np\n",
    "\n",
    "import matplotlib.pyplot as plt\n",
    "from datetime import datetime\n",
    "\n",
    "from pandas import Series\n",
    "%matplotlib inline\n",
    "import warnings\n",
    "\n",
    "warnings.filterwarnings(\"ignore\")\n",
    "\n",
    "import statsmodels.api as sm"
   ]
  },
  {
   "cell_type": "code",
   "execution_count": 316,
   "id": "61836b10",
   "metadata": {},
   "outputs": [
    {
     "name": "stdout",
     "output_type": "stream",
     "text": [
      "     Unnamed: 0  population_id park_name                           pop_name  \\\n",
      "1             1              2       MCP  Sus cebifrons (Visayan Warty Pig)   \n",
      "4             4              5       MCP  Sus cebifrons (Visayan Warty Pig)   \n",
      "7             7              8       MCP  Sus cebifrons (Visayan Warty Pig)   \n",
      "10           10             11       MCP  Sus cebifrons (Visayan Warty Pig)   \n",
      "13           13             14       MCP  Sus cebifrons (Visayan Warty Pig)   \n",
      "..          ...            ...       ...                                ...   \n",
      "200         200            205       MCP  Sus cebifrons (Visayan Warty Pig)   \n",
      "203         203            208       MCP  Sus cebifrons (Visayan Warty Pig)   \n",
      "206         206            211       MCP  Sus cebifrons (Visayan Warty Pig)   \n",
      "209         209            214       MCP  Sus cebifrons (Visayan Warty Pig)   \n",
      "211         211            216       MCP  Sus cebifrons (Visayan Warty Pig)   \n",
      "\n",
      "       pop_date  population_no                  park_add  \n",
      "1    2016-01-04             11  Jayubo, Lambunao, Iloilo  \n",
      "4    2016-02-01             11  Jayubo, Lambunao, Iloilo  \n",
      "7    2016-03-07             14  Jayubo, Lambunao, Iloilo  \n",
      "10   2016-04-04             14  Jayubo, Lambunao, Iloilo  \n",
      "13   2016-05-02             14  Jayubo, Lambunao, Iloilo  \n",
      "..          ...            ...                       ...  \n",
      "200  2021-08-02             10  Jayubo, Lambunao, Iloilo  \n",
      "203  2021-09-06             10  Jayubo, Lambunao, Iloilo  \n",
      "206  2021-10-04             10  Jayubo, Lambunao, Iloilo  \n",
      "209  2021-11-03             10  Jayubo, Lambunao, Iloilo  \n",
      "211  2019-05-06             14  Jayubo, Lambunao, Iloilo  \n",
      "\n",
      "[71 rows x 7 columns]\n"
     ]
    }
   ],
   "source": [
    "import folium\n",
    "import pandas as pd\n",
    "import numpy as np\n",
    "\n",
    "data = pd.read_csv('popdata.csv')\n",
    "df = data[data['pop_name'] == \"Sus cebifrons (Visayan Warty Pig)\"]\n",
    "print(df)"
   ]
  },
  {
   "cell_type": "code",
   "execution_count": 317,
   "id": "e47a749d",
   "metadata": {},
   "outputs": [],
   "source": [
    "\n",
    "df['pop_date']=pd.to_datetime(df['pop_date'])"
   ]
  },
  {
   "cell_type": "code",
   "execution_count": 318,
   "id": "85ff9ff6",
   "metadata": {},
   "outputs": [
    {
     "data": {
      "text/plain": [
       "Index(['Unnamed: 0', 'population_id', 'park_name', 'pop_name', 'pop_date',\n",
       "       'population_no', 'park_add'],\n",
       "      dtype='object')"
      ]
     },
     "execution_count": 318,
     "metadata": {},
     "output_type": "execute_result"
    }
   ],
   "source": [
    "df.columns"
   ]
  },
  {
   "cell_type": "code",
   "execution_count": 319,
   "id": "565d1739",
   "metadata": {},
   "outputs": [
    {
     "data": {
      "text/html": [
       "<div>\n",
       "<style scoped>\n",
       "    .dataframe tbody tr th:only-of-type {\n",
       "        vertical-align: middle;\n",
       "    }\n",
       "\n",
       "    .dataframe tbody tr th {\n",
       "        vertical-align: top;\n",
       "    }\n",
       "\n",
       "    .dataframe thead th {\n",
       "        text-align: right;\n",
       "    }\n",
       "</style>\n",
       "<table border=\"1\" class=\"dataframe\">\n",
       "  <thead>\n",
       "    <tr style=\"text-align: right;\">\n",
       "      <th></th>\n",
       "      <th>Unnamed: 0</th>\n",
       "      <th>population_id</th>\n",
       "      <th>park_name</th>\n",
       "      <th>pop_name</th>\n",
       "      <th>pop_date</th>\n",
       "      <th>population_no</th>\n",
       "      <th>park_add</th>\n",
       "    </tr>\n",
       "  </thead>\n",
       "  <tbody>\n",
       "    <tr>\n",
       "      <th>1</th>\n",
       "      <td>1</td>\n",
       "      <td>2</td>\n",
       "      <td>MCP</td>\n",
       "      <td>Sus cebifrons (Visayan Warty Pig)</td>\n",
       "      <td>2016-01-04</td>\n",
       "      <td>11</td>\n",
       "      <td>Jayubo, Lambunao, Iloilo</td>\n",
       "    </tr>\n",
       "    <tr>\n",
       "      <th>4</th>\n",
       "      <td>4</td>\n",
       "      <td>5</td>\n",
       "      <td>MCP</td>\n",
       "      <td>Sus cebifrons (Visayan Warty Pig)</td>\n",
       "      <td>2016-02-01</td>\n",
       "      <td>11</td>\n",
       "      <td>Jayubo, Lambunao, Iloilo</td>\n",
       "    </tr>\n",
       "    <tr>\n",
       "      <th>7</th>\n",
       "      <td>7</td>\n",
       "      <td>8</td>\n",
       "      <td>MCP</td>\n",
       "      <td>Sus cebifrons (Visayan Warty Pig)</td>\n",
       "      <td>2016-03-07</td>\n",
       "      <td>14</td>\n",
       "      <td>Jayubo, Lambunao, Iloilo</td>\n",
       "    </tr>\n",
       "    <tr>\n",
       "      <th>10</th>\n",
       "      <td>10</td>\n",
       "      <td>11</td>\n",
       "      <td>MCP</td>\n",
       "      <td>Sus cebifrons (Visayan Warty Pig)</td>\n",
       "      <td>2016-04-04</td>\n",
       "      <td>14</td>\n",
       "      <td>Jayubo, Lambunao, Iloilo</td>\n",
       "    </tr>\n",
       "    <tr>\n",
       "      <th>13</th>\n",
       "      <td>13</td>\n",
       "      <td>14</td>\n",
       "      <td>MCP</td>\n",
       "      <td>Sus cebifrons (Visayan Warty Pig)</td>\n",
       "      <td>2016-05-02</td>\n",
       "      <td>14</td>\n",
       "      <td>Jayubo, Lambunao, Iloilo</td>\n",
       "    </tr>\n",
       "    <tr>\n",
       "      <th>...</th>\n",
       "      <td>...</td>\n",
       "      <td>...</td>\n",
       "      <td>...</td>\n",
       "      <td>...</td>\n",
       "      <td>...</td>\n",
       "      <td>...</td>\n",
       "      <td>...</td>\n",
       "    </tr>\n",
       "    <tr>\n",
       "      <th>200</th>\n",
       "      <td>200</td>\n",
       "      <td>205</td>\n",
       "      <td>MCP</td>\n",
       "      <td>Sus cebifrons (Visayan Warty Pig)</td>\n",
       "      <td>2021-08-02</td>\n",
       "      <td>10</td>\n",
       "      <td>Jayubo, Lambunao, Iloilo</td>\n",
       "    </tr>\n",
       "    <tr>\n",
       "      <th>203</th>\n",
       "      <td>203</td>\n",
       "      <td>208</td>\n",
       "      <td>MCP</td>\n",
       "      <td>Sus cebifrons (Visayan Warty Pig)</td>\n",
       "      <td>2021-09-06</td>\n",
       "      <td>10</td>\n",
       "      <td>Jayubo, Lambunao, Iloilo</td>\n",
       "    </tr>\n",
       "    <tr>\n",
       "      <th>206</th>\n",
       "      <td>206</td>\n",
       "      <td>211</td>\n",
       "      <td>MCP</td>\n",
       "      <td>Sus cebifrons (Visayan Warty Pig)</td>\n",
       "      <td>2021-10-04</td>\n",
       "      <td>10</td>\n",
       "      <td>Jayubo, Lambunao, Iloilo</td>\n",
       "    </tr>\n",
       "    <tr>\n",
       "      <th>209</th>\n",
       "      <td>209</td>\n",
       "      <td>214</td>\n",
       "      <td>MCP</td>\n",
       "      <td>Sus cebifrons (Visayan Warty Pig)</td>\n",
       "      <td>2021-11-03</td>\n",
       "      <td>10</td>\n",
       "      <td>Jayubo, Lambunao, Iloilo</td>\n",
       "    </tr>\n",
       "    <tr>\n",
       "      <th>211</th>\n",
       "      <td>211</td>\n",
       "      <td>216</td>\n",
       "      <td>MCP</td>\n",
       "      <td>Sus cebifrons (Visayan Warty Pig)</td>\n",
       "      <td>2019-05-06</td>\n",
       "      <td>14</td>\n",
       "      <td>Jayubo, Lambunao, Iloilo</td>\n",
       "    </tr>\n",
       "  </tbody>\n",
       "</table>\n",
       "<p>71 rows × 7 columns</p>\n",
       "</div>"
      ],
      "text/plain": [
       "     Unnamed: 0  population_id park_name                           pop_name  \\\n",
       "1             1              2       MCP  Sus cebifrons (Visayan Warty Pig)   \n",
       "4             4              5       MCP  Sus cebifrons (Visayan Warty Pig)   \n",
       "7             7              8       MCP  Sus cebifrons (Visayan Warty Pig)   \n",
       "10           10             11       MCP  Sus cebifrons (Visayan Warty Pig)   \n",
       "13           13             14       MCP  Sus cebifrons (Visayan Warty Pig)   \n",
       "..          ...            ...       ...                                ...   \n",
       "200         200            205       MCP  Sus cebifrons (Visayan Warty Pig)   \n",
       "203         203            208       MCP  Sus cebifrons (Visayan Warty Pig)   \n",
       "206         206            211       MCP  Sus cebifrons (Visayan Warty Pig)   \n",
       "209         209            214       MCP  Sus cebifrons (Visayan Warty Pig)   \n",
       "211         211            216       MCP  Sus cebifrons (Visayan Warty Pig)   \n",
       "\n",
       "      pop_date  population_no                  park_add  \n",
       "1   2016-01-04             11  Jayubo, Lambunao, Iloilo  \n",
       "4   2016-02-01             11  Jayubo, Lambunao, Iloilo  \n",
       "7   2016-03-07             14  Jayubo, Lambunao, Iloilo  \n",
       "10  2016-04-04             14  Jayubo, Lambunao, Iloilo  \n",
       "13  2016-05-02             14  Jayubo, Lambunao, Iloilo  \n",
       "..         ...            ...                       ...  \n",
       "200 2021-08-02             10  Jayubo, Lambunao, Iloilo  \n",
       "203 2021-09-06             10  Jayubo, Lambunao, Iloilo  \n",
       "206 2021-10-04             10  Jayubo, Lambunao, Iloilo  \n",
       "209 2021-11-03             10  Jayubo, Lambunao, Iloilo  \n",
       "211 2019-05-06             14  Jayubo, Lambunao, Iloilo  \n",
       "\n",
       "[71 rows x 7 columns]"
      ]
     },
     "execution_count": 319,
     "metadata": {},
     "output_type": "execute_result"
    }
   ],
   "source": [
    "df\n"
   ]
  },
  {
   "cell_type": "code",
   "execution_count": 320,
   "id": "b761c839",
   "metadata": {},
   "outputs": [
    {
     "data": {
      "text/html": [
       "<div>\n",
       "<style scoped>\n",
       "    .dataframe tbody tr th:only-of-type {\n",
       "        vertical-align: middle;\n",
       "    }\n",
       "\n",
       "    .dataframe tbody tr th {\n",
       "        vertical-align: top;\n",
       "    }\n",
       "\n",
       "    .dataframe thead th {\n",
       "        text-align: right;\n",
       "    }\n",
       "</style>\n",
       "<table border=\"1\" class=\"dataframe\">\n",
       "  <thead>\n",
       "    <tr style=\"text-align: right;\">\n",
       "      <th></th>\n",
       "      <th>index</th>\n",
       "      <th>Unnamed: 0</th>\n",
       "      <th>population_id</th>\n",
       "      <th>park_name</th>\n",
       "      <th>pop_name</th>\n",
       "      <th>date</th>\n",
       "      <th>Popu</th>\n",
       "      <th>park_add</th>\n",
       "    </tr>\n",
       "  </thead>\n",
       "  <tbody>\n",
       "    <tr>\n",
       "      <th>1</th>\n",
       "      <td>4</td>\n",
       "      <td>4</td>\n",
       "      <td>5</td>\n",
       "      <td>MCP</td>\n",
       "      <td>Sus cebifrons (Visayan Warty Pig)</td>\n",
       "      <td>2016-02-01</td>\n",
       "      <td>11</td>\n",
       "      <td>Jayubo, Lambunao, Iloilo</td>\n",
       "    </tr>\n",
       "    <tr>\n",
       "      <th>2</th>\n",
       "      <td>7</td>\n",
       "      <td>7</td>\n",
       "      <td>8</td>\n",
       "      <td>MCP</td>\n",
       "      <td>Sus cebifrons (Visayan Warty Pig)</td>\n",
       "      <td>2016-03-07</td>\n",
       "      <td>14</td>\n",
       "      <td>Jayubo, Lambunao, Iloilo</td>\n",
       "    </tr>\n",
       "    <tr>\n",
       "      <th>3</th>\n",
       "      <td>10</td>\n",
       "      <td>10</td>\n",
       "      <td>11</td>\n",
       "      <td>MCP</td>\n",
       "      <td>Sus cebifrons (Visayan Warty Pig)</td>\n",
       "      <td>2016-04-04</td>\n",
       "      <td>14</td>\n",
       "      <td>Jayubo, Lambunao, Iloilo</td>\n",
       "    </tr>\n",
       "    <tr>\n",
       "      <th>4</th>\n",
       "      <td>13</td>\n",
       "      <td>13</td>\n",
       "      <td>14</td>\n",
       "      <td>MCP</td>\n",
       "      <td>Sus cebifrons (Visayan Warty Pig)</td>\n",
       "      <td>2016-05-02</td>\n",
       "      <td>14</td>\n",
       "      <td>Jayubo, Lambunao, Iloilo</td>\n",
       "    </tr>\n",
       "    <tr>\n",
       "      <th>5</th>\n",
       "      <td>16</td>\n",
       "      <td>16</td>\n",
       "      <td>17</td>\n",
       "      <td>MCP</td>\n",
       "      <td>Sus cebifrons (Visayan Warty Pig)</td>\n",
       "      <td>2016-06-06</td>\n",
       "      <td>14</td>\n",
       "      <td>Jayubo, Lambunao, Iloilo</td>\n",
       "    </tr>\n",
       "    <tr>\n",
       "      <th>...</th>\n",
       "      <td>...</td>\n",
       "      <td>...</td>\n",
       "      <td>...</td>\n",
       "      <td>...</td>\n",
       "      <td>...</td>\n",
       "      <td>...</td>\n",
       "      <td>...</td>\n",
       "      <td>...</td>\n",
       "    </tr>\n",
       "    <tr>\n",
       "      <th>66</th>\n",
       "      <td>200</td>\n",
       "      <td>200</td>\n",
       "      <td>205</td>\n",
       "      <td>MCP</td>\n",
       "      <td>Sus cebifrons (Visayan Warty Pig)</td>\n",
       "      <td>2021-08-02</td>\n",
       "      <td>10</td>\n",
       "      <td>Jayubo, Lambunao, Iloilo</td>\n",
       "    </tr>\n",
       "    <tr>\n",
       "      <th>67</th>\n",
       "      <td>203</td>\n",
       "      <td>203</td>\n",
       "      <td>208</td>\n",
       "      <td>MCP</td>\n",
       "      <td>Sus cebifrons (Visayan Warty Pig)</td>\n",
       "      <td>2021-09-06</td>\n",
       "      <td>10</td>\n",
       "      <td>Jayubo, Lambunao, Iloilo</td>\n",
       "    </tr>\n",
       "    <tr>\n",
       "      <th>68</th>\n",
       "      <td>206</td>\n",
       "      <td>206</td>\n",
       "      <td>211</td>\n",
       "      <td>MCP</td>\n",
       "      <td>Sus cebifrons (Visayan Warty Pig)</td>\n",
       "      <td>2021-10-04</td>\n",
       "      <td>10</td>\n",
       "      <td>Jayubo, Lambunao, Iloilo</td>\n",
       "    </tr>\n",
       "    <tr>\n",
       "      <th>69</th>\n",
       "      <td>209</td>\n",
       "      <td>209</td>\n",
       "      <td>214</td>\n",
       "      <td>MCP</td>\n",
       "      <td>Sus cebifrons (Visayan Warty Pig)</td>\n",
       "      <td>2021-11-03</td>\n",
       "      <td>10</td>\n",
       "      <td>Jayubo, Lambunao, Iloilo</td>\n",
       "    </tr>\n",
       "    <tr>\n",
       "      <th>70</th>\n",
       "      <td>211</td>\n",
       "      <td>211</td>\n",
       "      <td>216</td>\n",
       "      <td>MCP</td>\n",
       "      <td>Sus cebifrons (Visayan Warty Pig)</td>\n",
       "      <td>2019-05-06</td>\n",
       "      <td>14</td>\n",
       "      <td>Jayubo, Lambunao, Iloilo</td>\n",
       "    </tr>\n",
       "  </tbody>\n",
       "</table>\n",
       "<p>70 rows × 8 columns</p>\n",
       "</div>"
      ],
      "text/plain": [
       "    index  Unnamed: 0  population_id park_name  \\\n",
       "1       4           4              5       MCP   \n",
       "2       7           7              8       MCP   \n",
       "3      10          10             11       MCP   \n",
       "4      13          13             14       MCP   \n",
       "5      16          16             17       MCP   \n",
       "..    ...         ...            ...       ...   \n",
       "66    200         200            205       MCP   \n",
       "67    203         203            208       MCP   \n",
       "68    206         206            211       MCP   \n",
       "69    209         209            214       MCP   \n",
       "70    211         211            216       MCP   \n",
       "\n",
       "                             pop_name       date  Popu  \\\n",
       "1   Sus cebifrons (Visayan Warty Pig) 2016-02-01    11   \n",
       "2   Sus cebifrons (Visayan Warty Pig) 2016-03-07    14   \n",
       "3   Sus cebifrons (Visayan Warty Pig) 2016-04-04    14   \n",
       "4   Sus cebifrons (Visayan Warty Pig) 2016-05-02    14   \n",
       "5   Sus cebifrons (Visayan Warty Pig) 2016-06-06    14   \n",
       "..                                ...        ...   ...   \n",
       "66  Sus cebifrons (Visayan Warty Pig) 2021-08-02    10   \n",
       "67  Sus cebifrons (Visayan Warty Pig) 2021-09-06    10   \n",
       "68  Sus cebifrons (Visayan Warty Pig) 2021-10-04    10   \n",
       "69  Sus cebifrons (Visayan Warty Pig) 2021-11-03    10   \n",
       "70  Sus cebifrons (Visayan Warty Pig) 2019-05-06    14   \n",
       "\n",
       "                    park_add  \n",
       "1   Jayubo, Lambunao, Iloilo  \n",
       "2   Jayubo, Lambunao, Iloilo  \n",
       "3   Jayubo, Lambunao, Iloilo  \n",
       "4   Jayubo, Lambunao, Iloilo  \n",
       "5   Jayubo, Lambunao, Iloilo  \n",
       "..                       ...  \n",
       "66  Jayubo, Lambunao, Iloilo  \n",
       "67  Jayubo, Lambunao, Iloilo  \n",
       "68  Jayubo, Lambunao, Iloilo  \n",
       "69  Jayubo, Lambunao, Iloilo  \n",
       "70  Jayubo, Lambunao, Iloilo  \n",
       "\n",
       "[70 rows x 8 columns]"
      ]
     },
     "execution_count": 320,
     "metadata": {},
     "output_type": "execute_result"
    }
   ],
   "source": [
    "### Rename the columns\n",
    "new_df = df.reset_index().rename(columns={'pop_date':'date', 'population_no' : 'Popu'})\n",
    "\n",
    "### Remove the header row\n",
    "new_df = new_df.iloc[1:len(new_df)]\n",
    "\n",
    "new_df"
   ]
  },
  {
   "cell_type": "code",
   "execution_count": 321,
   "id": "cfdaad73",
   "metadata": {},
   "outputs": [],
   "source": [
    "new_df['year']=new_df.date.dt.year\n",
    "new_df['month']=new_df.date.dt.month\n",
    "new_df['day']=new_df.date.dt.day"
   ]
  },
  {
   "cell_type": "code",
   "execution_count": 322,
   "id": "7655b249",
   "metadata": {},
   "outputs": [
    {
     "data": {
      "text/html": [
       "<div>\n",
       "<style scoped>\n",
       "    .dataframe tbody tr th:only-of-type {\n",
       "        vertical-align: middle;\n",
       "    }\n",
       "\n",
       "    .dataframe tbody tr th {\n",
       "        vertical-align: top;\n",
       "    }\n",
       "\n",
       "    .dataframe thead th {\n",
       "        text-align: right;\n",
       "    }\n",
       "</style>\n",
       "<table border=\"1\" class=\"dataframe\">\n",
       "  <thead>\n",
       "    <tr style=\"text-align: right;\">\n",
       "      <th></th>\n",
       "      <th>index</th>\n",
       "      <th>Unnamed: 0</th>\n",
       "      <th>population_id</th>\n",
       "      <th>park_name</th>\n",
       "      <th>pop_name</th>\n",
       "      <th>date</th>\n",
       "      <th>Popu</th>\n",
       "      <th>park_add</th>\n",
       "      <th>year</th>\n",
       "      <th>month</th>\n",
       "      <th>day</th>\n",
       "    </tr>\n",
       "  </thead>\n",
       "  <tbody>\n",
       "    <tr>\n",
       "      <th>1</th>\n",
       "      <td>4</td>\n",
       "      <td>4</td>\n",
       "      <td>5</td>\n",
       "      <td>MCP</td>\n",
       "      <td>Sus cebifrons (Visayan Warty Pig)</td>\n",
       "      <td>2016-02-01</td>\n",
       "      <td>11</td>\n",
       "      <td>Jayubo, Lambunao, Iloilo</td>\n",
       "      <td>2016</td>\n",
       "      <td>2</td>\n",
       "      <td>1</td>\n",
       "    </tr>\n",
       "    <tr>\n",
       "      <th>2</th>\n",
       "      <td>7</td>\n",
       "      <td>7</td>\n",
       "      <td>8</td>\n",
       "      <td>MCP</td>\n",
       "      <td>Sus cebifrons (Visayan Warty Pig)</td>\n",
       "      <td>2016-03-07</td>\n",
       "      <td>14</td>\n",
       "      <td>Jayubo, Lambunao, Iloilo</td>\n",
       "      <td>2016</td>\n",
       "      <td>3</td>\n",
       "      <td>7</td>\n",
       "    </tr>\n",
       "    <tr>\n",
       "      <th>3</th>\n",
       "      <td>10</td>\n",
       "      <td>10</td>\n",
       "      <td>11</td>\n",
       "      <td>MCP</td>\n",
       "      <td>Sus cebifrons (Visayan Warty Pig)</td>\n",
       "      <td>2016-04-04</td>\n",
       "      <td>14</td>\n",
       "      <td>Jayubo, Lambunao, Iloilo</td>\n",
       "      <td>2016</td>\n",
       "      <td>4</td>\n",
       "      <td>4</td>\n",
       "    </tr>\n",
       "    <tr>\n",
       "      <th>4</th>\n",
       "      <td>13</td>\n",
       "      <td>13</td>\n",
       "      <td>14</td>\n",
       "      <td>MCP</td>\n",
       "      <td>Sus cebifrons (Visayan Warty Pig)</td>\n",
       "      <td>2016-05-02</td>\n",
       "      <td>14</td>\n",
       "      <td>Jayubo, Lambunao, Iloilo</td>\n",
       "      <td>2016</td>\n",
       "      <td>5</td>\n",
       "      <td>2</td>\n",
       "    </tr>\n",
       "    <tr>\n",
       "      <th>5</th>\n",
       "      <td>16</td>\n",
       "      <td>16</td>\n",
       "      <td>17</td>\n",
       "      <td>MCP</td>\n",
       "      <td>Sus cebifrons (Visayan Warty Pig)</td>\n",
       "      <td>2016-06-06</td>\n",
       "      <td>14</td>\n",
       "      <td>Jayubo, Lambunao, Iloilo</td>\n",
       "      <td>2016</td>\n",
       "      <td>6</td>\n",
       "      <td>6</td>\n",
       "    </tr>\n",
       "    <tr>\n",
       "      <th>...</th>\n",
       "      <td>...</td>\n",
       "      <td>...</td>\n",
       "      <td>...</td>\n",
       "      <td>...</td>\n",
       "      <td>...</td>\n",
       "      <td>...</td>\n",
       "      <td>...</td>\n",
       "      <td>...</td>\n",
       "      <td>...</td>\n",
       "      <td>...</td>\n",
       "      <td>...</td>\n",
       "    </tr>\n",
       "    <tr>\n",
       "      <th>66</th>\n",
       "      <td>200</td>\n",
       "      <td>200</td>\n",
       "      <td>205</td>\n",
       "      <td>MCP</td>\n",
       "      <td>Sus cebifrons (Visayan Warty Pig)</td>\n",
       "      <td>2021-08-02</td>\n",
       "      <td>10</td>\n",
       "      <td>Jayubo, Lambunao, Iloilo</td>\n",
       "      <td>2021</td>\n",
       "      <td>8</td>\n",
       "      <td>2</td>\n",
       "    </tr>\n",
       "    <tr>\n",
       "      <th>67</th>\n",
       "      <td>203</td>\n",
       "      <td>203</td>\n",
       "      <td>208</td>\n",
       "      <td>MCP</td>\n",
       "      <td>Sus cebifrons (Visayan Warty Pig)</td>\n",
       "      <td>2021-09-06</td>\n",
       "      <td>10</td>\n",
       "      <td>Jayubo, Lambunao, Iloilo</td>\n",
       "      <td>2021</td>\n",
       "      <td>9</td>\n",
       "      <td>6</td>\n",
       "    </tr>\n",
       "    <tr>\n",
       "      <th>68</th>\n",
       "      <td>206</td>\n",
       "      <td>206</td>\n",
       "      <td>211</td>\n",
       "      <td>MCP</td>\n",
       "      <td>Sus cebifrons (Visayan Warty Pig)</td>\n",
       "      <td>2021-10-04</td>\n",
       "      <td>10</td>\n",
       "      <td>Jayubo, Lambunao, Iloilo</td>\n",
       "      <td>2021</td>\n",
       "      <td>10</td>\n",
       "      <td>4</td>\n",
       "    </tr>\n",
       "    <tr>\n",
       "      <th>69</th>\n",
       "      <td>209</td>\n",
       "      <td>209</td>\n",
       "      <td>214</td>\n",
       "      <td>MCP</td>\n",
       "      <td>Sus cebifrons (Visayan Warty Pig)</td>\n",
       "      <td>2021-11-03</td>\n",
       "      <td>10</td>\n",
       "      <td>Jayubo, Lambunao, Iloilo</td>\n",
       "      <td>2021</td>\n",
       "      <td>11</td>\n",
       "      <td>3</td>\n",
       "    </tr>\n",
       "    <tr>\n",
       "      <th>70</th>\n",
       "      <td>211</td>\n",
       "      <td>211</td>\n",
       "      <td>216</td>\n",
       "      <td>MCP</td>\n",
       "      <td>Sus cebifrons (Visayan Warty Pig)</td>\n",
       "      <td>2019-05-06</td>\n",
       "      <td>14</td>\n",
       "      <td>Jayubo, Lambunao, Iloilo</td>\n",
       "      <td>2019</td>\n",
       "      <td>5</td>\n",
       "      <td>6</td>\n",
       "    </tr>\n",
       "  </tbody>\n",
       "</table>\n",
       "<p>70 rows × 11 columns</p>\n",
       "</div>"
      ],
      "text/plain": [
       "    index  Unnamed: 0  population_id park_name  \\\n",
       "1       4           4              5       MCP   \n",
       "2       7           7              8       MCP   \n",
       "3      10          10             11       MCP   \n",
       "4      13          13             14       MCP   \n",
       "5      16          16             17       MCP   \n",
       "..    ...         ...            ...       ...   \n",
       "66    200         200            205       MCP   \n",
       "67    203         203            208       MCP   \n",
       "68    206         206            211       MCP   \n",
       "69    209         209            214       MCP   \n",
       "70    211         211            216       MCP   \n",
       "\n",
       "                             pop_name       date  Popu  \\\n",
       "1   Sus cebifrons (Visayan Warty Pig) 2016-02-01    11   \n",
       "2   Sus cebifrons (Visayan Warty Pig) 2016-03-07    14   \n",
       "3   Sus cebifrons (Visayan Warty Pig) 2016-04-04    14   \n",
       "4   Sus cebifrons (Visayan Warty Pig) 2016-05-02    14   \n",
       "5   Sus cebifrons (Visayan Warty Pig) 2016-06-06    14   \n",
       "..                                ...        ...   ...   \n",
       "66  Sus cebifrons (Visayan Warty Pig) 2021-08-02    10   \n",
       "67  Sus cebifrons (Visayan Warty Pig) 2021-09-06    10   \n",
       "68  Sus cebifrons (Visayan Warty Pig) 2021-10-04    10   \n",
       "69  Sus cebifrons (Visayan Warty Pig) 2021-11-03    10   \n",
       "70  Sus cebifrons (Visayan Warty Pig) 2019-05-06    14   \n",
       "\n",
       "                    park_add  year  month  day  \n",
       "1   Jayubo, Lambunao, Iloilo  2016      2    1  \n",
       "2   Jayubo, Lambunao, Iloilo  2016      3    7  \n",
       "3   Jayubo, Lambunao, Iloilo  2016      4    4  \n",
       "4   Jayubo, Lambunao, Iloilo  2016      5    2  \n",
       "5   Jayubo, Lambunao, Iloilo  2016      6    6  \n",
       "..                       ...   ...    ...  ...  \n",
       "66  Jayubo, Lambunao, Iloilo  2021      8    2  \n",
       "67  Jayubo, Lambunao, Iloilo  2021      9    6  \n",
       "68  Jayubo, Lambunao, Iloilo  2021     10    4  \n",
       "69  Jayubo, Lambunao, Iloilo  2021     11    3  \n",
       "70  Jayubo, Lambunao, Iloilo  2019      5    6  \n",
       "\n",
       "[70 rows x 11 columns]"
      ]
     },
     "execution_count": 322,
     "metadata": {},
     "output_type": "execute_result"
    }
   ],
   "source": [
    "new_df"
   ]
  },
  {
   "cell_type": "code",
   "execution_count": 323,
   "id": "8c09297c",
   "metadata": {},
   "outputs": [
    {
     "data": {
      "text/html": [
       "<div>\n",
       "<style scoped>\n",
       "    .dataframe tbody tr th:only-of-type {\n",
       "        vertical-align: middle;\n",
       "    }\n",
       "\n",
       "    .dataframe tbody tr th {\n",
       "        vertical-align: top;\n",
       "    }\n",
       "\n",
       "    .dataframe thead th {\n",
       "        text-align: right;\n",
       "    }\n",
       "</style>\n",
       "<table border=\"1\" class=\"dataframe\">\n",
       "  <thead>\n",
       "    <tr style=\"text-align: right;\">\n",
       "      <th></th>\n",
       "      <th>index</th>\n",
       "      <th>Unnamed: 0</th>\n",
       "      <th>population_id</th>\n",
       "      <th>park_name</th>\n",
       "      <th>pop_name</th>\n",
       "      <th>date</th>\n",
       "      <th>Popu</th>\n",
       "      <th>park_add</th>\n",
       "      <th>year</th>\n",
       "      <th>month</th>\n",
       "      <th>day</th>\n",
       "    </tr>\n",
       "    <tr>\n",
       "      <th>date</th>\n",
       "      <th></th>\n",
       "      <th></th>\n",
       "      <th></th>\n",
       "      <th></th>\n",
       "      <th></th>\n",
       "      <th></th>\n",
       "      <th></th>\n",
       "      <th></th>\n",
       "      <th></th>\n",
       "      <th></th>\n",
       "      <th></th>\n",
       "    </tr>\n",
       "  </thead>\n",
       "  <tbody>\n",
       "    <tr>\n",
       "      <th>2016-02-01</th>\n",
       "      <td>4</td>\n",
       "      <td>4</td>\n",
       "      <td>5</td>\n",
       "      <td>MCP</td>\n",
       "      <td>Sus cebifrons (Visayan Warty Pig)</td>\n",
       "      <td>2016-02-01</td>\n",
       "      <td>11</td>\n",
       "      <td>Jayubo, Lambunao, Iloilo</td>\n",
       "      <td>2016</td>\n",
       "      <td>2</td>\n",
       "      <td>1</td>\n",
       "    </tr>\n",
       "    <tr>\n",
       "      <th>2016-03-07</th>\n",
       "      <td>7</td>\n",
       "      <td>7</td>\n",
       "      <td>8</td>\n",
       "      <td>MCP</td>\n",
       "      <td>Sus cebifrons (Visayan Warty Pig)</td>\n",
       "      <td>2016-03-07</td>\n",
       "      <td>14</td>\n",
       "      <td>Jayubo, Lambunao, Iloilo</td>\n",
       "      <td>2016</td>\n",
       "      <td>3</td>\n",
       "      <td>7</td>\n",
       "    </tr>\n",
       "    <tr>\n",
       "      <th>2016-04-04</th>\n",
       "      <td>10</td>\n",
       "      <td>10</td>\n",
       "      <td>11</td>\n",
       "      <td>MCP</td>\n",
       "      <td>Sus cebifrons (Visayan Warty Pig)</td>\n",
       "      <td>2016-04-04</td>\n",
       "      <td>14</td>\n",
       "      <td>Jayubo, Lambunao, Iloilo</td>\n",
       "      <td>2016</td>\n",
       "      <td>4</td>\n",
       "      <td>4</td>\n",
       "    </tr>\n",
       "    <tr>\n",
       "      <th>2016-05-02</th>\n",
       "      <td>13</td>\n",
       "      <td>13</td>\n",
       "      <td>14</td>\n",
       "      <td>MCP</td>\n",
       "      <td>Sus cebifrons (Visayan Warty Pig)</td>\n",
       "      <td>2016-05-02</td>\n",
       "      <td>14</td>\n",
       "      <td>Jayubo, Lambunao, Iloilo</td>\n",
       "      <td>2016</td>\n",
       "      <td>5</td>\n",
       "      <td>2</td>\n",
       "    </tr>\n",
       "    <tr>\n",
       "      <th>2016-06-06</th>\n",
       "      <td>16</td>\n",
       "      <td>16</td>\n",
       "      <td>17</td>\n",
       "      <td>MCP</td>\n",
       "      <td>Sus cebifrons (Visayan Warty Pig)</td>\n",
       "      <td>2016-06-06</td>\n",
       "      <td>14</td>\n",
       "      <td>Jayubo, Lambunao, Iloilo</td>\n",
       "      <td>2016</td>\n",
       "      <td>6</td>\n",
       "      <td>6</td>\n",
       "    </tr>\n",
       "    <tr>\n",
       "      <th>...</th>\n",
       "      <td>...</td>\n",
       "      <td>...</td>\n",
       "      <td>...</td>\n",
       "      <td>...</td>\n",
       "      <td>...</td>\n",
       "      <td>...</td>\n",
       "      <td>...</td>\n",
       "      <td>...</td>\n",
       "      <td>...</td>\n",
       "      <td>...</td>\n",
       "      <td>...</td>\n",
       "    </tr>\n",
       "    <tr>\n",
       "      <th>2021-08-02</th>\n",
       "      <td>200</td>\n",
       "      <td>200</td>\n",
       "      <td>205</td>\n",
       "      <td>MCP</td>\n",
       "      <td>Sus cebifrons (Visayan Warty Pig)</td>\n",
       "      <td>2021-08-02</td>\n",
       "      <td>10</td>\n",
       "      <td>Jayubo, Lambunao, Iloilo</td>\n",
       "      <td>2021</td>\n",
       "      <td>8</td>\n",
       "      <td>2</td>\n",
       "    </tr>\n",
       "    <tr>\n",
       "      <th>2021-09-06</th>\n",
       "      <td>203</td>\n",
       "      <td>203</td>\n",
       "      <td>208</td>\n",
       "      <td>MCP</td>\n",
       "      <td>Sus cebifrons (Visayan Warty Pig)</td>\n",
       "      <td>2021-09-06</td>\n",
       "      <td>10</td>\n",
       "      <td>Jayubo, Lambunao, Iloilo</td>\n",
       "      <td>2021</td>\n",
       "      <td>9</td>\n",
       "      <td>6</td>\n",
       "    </tr>\n",
       "    <tr>\n",
       "      <th>2021-10-04</th>\n",
       "      <td>206</td>\n",
       "      <td>206</td>\n",
       "      <td>211</td>\n",
       "      <td>MCP</td>\n",
       "      <td>Sus cebifrons (Visayan Warty Pig)</td>\n",
       "      <td>2021-10-04</td>\n",
       "      <td>10</td>\n",
       "      <td>Jayubo, Lambunao, Iloilo</td>\n",
       "      <td>2021</td>\n",
       "      <td>10</td>\n",
       "      <td>4</td>\n",
       "    </tr>\n",
       "    <tr>\n",
       "      <th>2021-11-03</th>\n",
       "      <td>209</td>\n",
       "      <td>209</td>\n",
       "      <td>214</td>\n",
       "      <td>MCP</td>\n",
       "      <td>Sus cebifrons (Visayan Warty Pig)</td>\n",
       "      <td>2021-11-03</td>\n",
       "      <td>10</td>\n",
       "      <td>Jayubo, Lambunao, Iloilo</td>\n",
       "      <td>2021</td>\n",
       "      <td>11</td>\n",
       "      <td>3</td>\n",
       "    </tr>\n",
       "    <tr>\n",
       "      <th>2019-05-06</th>\n",
       "      <td>211</td>\n",
       "      <td>211</td>\n",
       "      <td>216</td>\n",
       "      <td>MCP</td>\n",
       "      <td>Sus cebifrons (Visayan Warty Pig)</td>\n",
       "      <td>2019-05-06</td>\n",
       "      <td>14</td>\n",
       "      <td>Jayubo, Lambunao, Iloilo</td>\n",
       "      <td>2019</td>\n",
       "      <td>5</td>\n",
       "      <td>6</td>\n",
       "    </tr>\n",
       "  </tbody>\n",
       "</table>\n",
       "<p>70 rows × 11 columns</p>\n",
       "</div>"
      ],
      "text/plain": [
       "            index  Unnamed: 0  population_id park_name  \\\n",
       "date                                                     \n",
       "2016-02-01      4           4              5       MCP   \n",
       "2016-03-07      7           7              8       MCP   \n",
       "2016-04-04     10          10             11       MCP   \n",
       "2016-05-02     13          13             14       MCP   \n",
       "2016-06-06     16          16             17       MCP   \n",
       "...           ...         ...            ...       ...   \n",
       "2021-08-02    200         200            205       MCP   \n",
       "2021-09-06    203         203            208       MCP   \n",
       "2021-10-04    206         206            211       MCP   \n",
       "2021-11-03    209         209            214       MCP   \n",
       "2019-05-06    211         211            216       MCP   \n",
       "\n",
       "                                     pop_name       date  Popu  \\\n",
       "date                                                             \n",
       "2016-02-01  Sus cebifrons (Visayan Warty Pig) 2016-02-01    11   \n",
       "2016-03-07  Sus cebifrons (Visayan Warty Pig) 2016-03-07    14   \n",
       "2016-04-04  Sus cebifrons (Visayan Warty Pig) 2016-04-04    14   \n",
       "2016-05-02  Sus cebifrons (Visayan Warty Pig) 2016-05-02    14   \n",
       "2016-06-06  Sus cebifrons (Visayan Warty Pig) 2016-06-06    14   \n",
       "...                                       ...        ...   ...   \n",
       "2021-08-02  Sus cebifrons (Visayan Warty Pig) 2021-08-02    10   \n",
       "2021-09-06  Sus cebifrons (Visayan Warty Pig) 2021-09-06    10   \n",
       "2021-10-04  Sus cebifrons (Visayan Warty Pig) 2021-10-04    10   \n",
       "2021-11-03  Sus cebifrons (Visayan Warty Pig) 2021-11-03    10   \n",
       "2019-05-06  Sus cebifrons (Visayan Warty Pig) 2019-05-06    14   \n",
       "\n",
       "                            park_add  year  month  day  \n",
       "date                                                    \n",
       "2016-02-01  Jayubo, Lambunao, Iloilo  2016      2    1  \n",
       "2016-03-07  Jayubo, Lambunao, Iloilo  2016      3    7  \n",
       "2016-04-04  Jayubo, Lambunao, Iloilo  2016      4    4  \n",
       "2016-05-02  Jayubo, Lambunao, Iloilo  2016      5    2  \n",
       "2016-06-06  Jayubo, Lambunao, Iloilo  2016      6    6  \n",
       "...                              ...   ...    ...  ...  \n",
       "2021-08-02  Jayubo, Lambunao, Iloilo  2021      8    2  \n",
       "2021-09-06  Jayubo, Lambunao, Iloilo  2021      9    6  \n",
       "2021-10-04  Jayubo, Lambunao, Iloilo  2021     10    4  \n",
       "2021-11-03  Jayubo, Lambunao, Iloilo  2021     11    3  \n",
       "2019-05-06  Jayubo, Lambunao, Iloilo  2019      5    6  \n",
       "\n",
       "[70 rows x 11 columns]"
      ]
     },
     "execution_count": 323,
     "metadata": {},
     "output_type": "execute_result"
    }
   ],
   "source": [
    "new_df.index = new_df.date\n",
    "new_df"
   ]
  },
  {
   "cell_type": "code",
   "execution_count": 324,
   "id": "6f389003",
   "metadata": {},
   "outputs": [
    {
     "data": {
      "text/plain": [
       "<AxesSubplot:xlabel='month'>"
      ]
     },
     "execution_count": 324,
     "metadata": {},
     "output_type": "execute_result"
    },
    {
     "data": {
      "image/png": "[encoded data removed]",
      "text/plain": [
       "<Figure size 432x288 with 1 Axes>"
      ]
     },
     "metadata": {
      "needs_background": "light"
     },
     "output_type": "display_data"
    }
   ],
   "source": [
    "new_df.groupby('month').Popu.mean().plot.bar()"
   ]
  },
  {
   "cell_type": "code",
   "execution_count": 325,
   "id": "0940b712",
   "metadata": {},
   "outputs": [
    {
     "data": {
      "text/plain": [
       "<AxesSubplot:xlabel='year'>"
      ]
     },
     "execution_count": 325,
     "metadata": {},
     "output_type": "execute_result"
    },
    {
     "data": {
      "image/png": "[encoded data removed]",
      "text/plain": [
       "<Figure size 432x288 with 1 Axes>"
      ]
     },
     "metadata": {
      "needs_background": "light"
     },
     "output_type": "display_data"
    }
   ],
   "source": [
    "new_df.groupby('year').Popu.mean().plot.bar()"
   ]
  },
  {
   "cell_type": "code",
   "execution_count": 326,
   "id": "e2d6be4a",
   "metadata": {},
   "outputs": [
    {
     "data": {
      "text/html": [
       "<div>\n",
       "<style scoped>\n",
       "    .dataframe tbody tr th:only-of-type {\n",
       "        vertical-align: middle;\n",
       "    }\n",
       "\n",
       "    .dataframe tbody tr th {\n",
       "        vertical-align: top;\n",
       "    }\n",
       "\n",
       "    .dataframe thead th {\n",
       "        text-align: right;\n",
       "    }\n",
       "</style>\n",
       "<table border=\"1\" class=\"dataframe\">\n",
       "  <thead>\n",
       "    <tr style=\"text-align: right;\">\n",
       "      <th></th>\n",
       "      <th>index</th>\n",
       "      <th>Unnamed: 0</th>\n",
       "      <th>population_id</th>\n",
       "      <th>park_name</th>\n",
       "      <th>pop_name</th>\n",
       "      <th>date</th>\n",
       "      <th>Popu</th>\n",
       "      <th>park_add</th>\n",
       "      <th>year</th>\n",
       "      <th>month</th>\n",
       "      <th>day</th>\n",
       "    </tr>\n",
       "    <tr>\n",
       "      <th>date</th>\n",
       "      <th></th>\n",
       "      <th></th>\n",
       "      <th></th>\n",
       "      <th></th>\n",
       "      <th></th>\n",
       "      <th></th>\n",
       "      <th></th>\n",
       "      <th></th>\n",
       "      <th></th>\n",
       "      <th></th>\n",
       "      <th></th>\n",
       "    </tr>\n",
       "  </thead>\n",
       "  <tbody>\n",
       "    <tr>\n",
       "      <th>2016-02-01</th>\n",
       "      <td>4</td>\n",
       "      <td>4</td>\n",
       "      <td>5</td>\n",
       "      <td>MCP</td>\n",
       "      <td>Sus cebifrons (Visayan Warty Pig)</td>\n",
       "      <td>2016-02-01</td>\n",
       "      <td>11</td>\n",
       "      <td>Jayubo, Lambunao, Iloilo</td>\n",
       "      <td>2016</td>\n",
       "      <td>2</td>\n",
       "      <td>1</td>\n",
       "    </tr>\n",
       "    <tr>\n",
       "      <th>2016-03-07</th>\n",
       "      <td>7</td>\n",
       "      <td>7</td>\n",
       "      <td>8</td>\n",
       "      <td>MCP</td>\n",
       "      <td>Sus cebifrons (Visayan Warty Pig)</td>\n",
       "      <td>2016-03-07</td>\n",
       "      <td>14</td>\n",
       "      <td>Jayubo, Lambunao, Iloilo</td>\n",
       "      <td>2016</td>\n",
       "      <td>3</td>\n",
       "      <td>7</td>\n",
       "    </tr>\n",
       "    <tr>\n",
       "      <th>2016-04-04</th>\n",
       "      <td>10</td>\n",
       "      <td>10</td>\n",
       "      <td>11</td>\n",
       "      <td>MCP</td>\n",
       "      <td>Sus cebifrons (Visayan Warty Pig)</td>\n",
       "      <td>2016-04-04</td>\n",
       "      <td>14</td>\n",
       "      <td>Jayubo, Lambunao, Iloilo</td>\n",
       "      <td>2016</td>\n",
       "      <td>4</td>\n",
       "      <td>4</td>\n",
       "    </tr>\n",
       "    <tr>\n",
       "      <th>2016-05-02</th>\n",
       "      <td>13</td>\n",
       "      <td>13</td>\n",
       "      <td>14</td>\n",
       "      <td>MCP</td>\n",
       "      <td>Sus cebifrons (Visayan Warty Pig)</td>\n",
       "      <td>2016-05-02</td>\n",
       "      <td>14</td>\n",
       "      <td>Jayubo, Lambunao, Iloilo</td>\n",
       "      <td>2016</td>\n",
       "      <td>5</td>\n",
       "      <td>2</td>\n",
       "    </tr>\n",
       "    <tr>\n",
       "      <th>2016-06-06</th>\n",
       "      <td>16</td>\n",
       "      <td>16</td>\n",
       "      <td>17</td>\n",
       "      <td>MCP</td>\n",
       "      <td>Sus cebifrons (Visayan Warty Pig)</td>\n",
       "      <td>2016-06-06</td>\n",
       "      <td>14</td>\n",
       "      <td>Jayubo, Lambunao, Iloilo</td>\n",
       "      <td>2016</td>\n",
       "      <td>6</td>\n",
       "      <td>6</td>\n",
       "    </tr>\n",
       "    <tr>\n",
       "      <th>...</th>\n",
       "      <td>...</td>\n",
       "      <td>...</td>\n",
       "      <td>...</td>\n",
       "      <td>...</td>\n",
       "      <td>...</td>\n",
       "      <td>...</td>\n",
       "      <td>...</td>\n",
       "      <td>...</td>\n",
       "      <td>...</td>\n",
       "      <td>...</td>\n",
       "      <td>...</td>\n",
       "    </tr>\n",
       "    <tr>\n",
       "      <th>2021-08-02</th>\n",
       "      <td>200</td>\n",
       "      <td>200</td>\n",
       "      <td>205</td>\n",
       "      <td>MCP</td>\n",
       "      <td>Sus cebifrons (Visayan Warty Pig)</td>\n",
       "      <td>2021-08-02</td>\n",
       "      <td>10</td>\n",
       "      <td>Jayubo, Lambunao, Iloilo</td>\n",
       "      <td>2021</td>\n",
       "      <td>8</td>\n",
       "      <td>2</td>\n",
       "    </tr>\n",
       "    <tr>\n",
       "      <th>2021-09-06</th>\n",
       "      <td>203</td>\n",
       "      <td>203</td>\n",
       "      <td>208</td>\n",
       "      <td>MCP</td>\n",
       "      <td>Sus cebifrons (Visayan Warty Pig)</td>\n",
       "      <td>2021-09-06</td>\n",
       "      <td>10</td>\n",
       "      <td>Jayubo, Lambunao, Iloilo</td>\n",
       "      <td>2021</td>\n",
       "      <td>9</td>\n",
       "      <td>6</td>\n",
       "    </tr>\n",
       "    <tr>\n",
       "      <th>2021-10-04</th>\n",
       "      <td>206</td>\n",
       "      <td>206</td>\n",
       "      <td>211</td>\n",
       "      <td>MCP</td>\n",
       "      <td>Sus cebifrons (Visayan Warty Pig)</td>\n",
       "      <td>2021-10-04</td>\n",
       "      <td>10</td>\n",
       "      <td>Jayubo, Lambunao, Iloilo</td>\n",
       "      <td>2021</td>\n",
       "      <td>10</td>\n",
       "      <td>4</td>\n",
       "    </tr>\n",
       "    <tr>\n",
       "      <th>2021-11-03</th>\n",
       "      <td>209</td>\n",
       "      <td>209</td>\n",
       "      <td>214</td>\n",
       "      <td>MCP</td>\n",
       "      <td>Sus cebifrons (Visayan Warty Pig)</td>\n",
       "      <td>2021-11-03</td>\n",
       "      <td>10</td>\n",
       "      <td>Jayubo, Lambunao, Iloilo</td>\n",
       "      <td>2021</td>\n",
       "      <td>11</td>\n",
       "      <td>3</td>\n",
       "    </tr>\n",
       "    <tr>\n",
       "      <th>2019-05-06</th>\n",
       "      <td>211</td>\n",
       "      <td>211</td>\n",
       "      <td>216</td>\n",
       "      <td>MCP</td>\n",
       "      <td>Sus cebifrons (Visayan Warty Pig)</td>\n",
       "      <td>2019-05-06</td>\n",
       "      <td>14</td>\n",
       "      <td>Jayubo, Lambunao, Iloilo</td>\n",
       "      <td>2019</td>\n",
       "      <td>5</td>\n",
       "      <td>6</td>\n",
       "    </tr>\n",
       "  </tbody>\n",
       "</table>\n",
       "<p>70 rows × 11 columns</p>\n",
       "</div>"
      ],
      "text/plain": [
       "            index  Unnamed: 0  population_id park_name  \\\n",
       "date                                                     \n",
       "2016-02-01      4           4              5       MCP   \n",
       "2016-03-07      7           7              8       MCP   \n",
       "2016-04-04     10          10             11       MCP   \n",
       "2016-05-02     13          13             14       MCP   \n",
       "2016-06-06     16          16             17       MCP   \n",
       "...           ...         ...            ...       ...   \n",
       "2021-08-02    200         200            205       MCP   \n",
       "2021-09-06    203         203            208       MCP   \n",
       "2021-10-04    206         206            211       MCP   \n",
       "2021-11-03    209         209            214       MCP   \n",
       "2019-05-06    211         211            216       MCP   \n",
       "\n",
       "                                     pop_name       date  Popu  \\\n",
       "date                                                             \n",
       "2016-02-01  Sus cebifrons (Visayan Warty Pig) 2016-02-01    11   \n",
       "2016-03-07  Sus cebifrons (Visayan Warty Pig) 2016-03-07    14   \n",
       "2016-04-04  Sus cebifrons (Visayan Warty Pig) 2016-04-04    14   \n",
       "2016-05-02  Sus cebifrons (Visayan Warty Pig) 2016-05-02    14   \n",
       "2016-06-06  Sus cebifrons (Visayan Warty Pig) 2016-06-06    14   \n",
       "...                                       ...        ...   ...   \n",
       "2021-08-02  Sus cebifrons (Visayan Warty Pig) 2021-08-02    10   \n",
       "2021-09-06  Sus cebifrons (Visayan Warty Pig) 2021-09-06    10   \n",
       "2021-10-04  Sus cebifrons (Visayan Warty Pig) 2021-10-04    10   \n",
       "2021-11-03  Sus cebifrons (Visayan Warty Pig) 2021-11-03    10   \n",
       "2019-05-06  Sus cebifrons (Visayan Warty Pig) 2019-05-06    14   \n",
       "\n",
       "                            park_add  year  month  day  \n",
       "date                                                    \n",
       "2016-02-01  Jayubo, Lambunao, Iloilo  2016      2    1  \n",
       "2016-03-07  Jayubo, Lambunao, Iloilo  2016      3    7  \n",
       "2016-04-04  Jayubo, Lambunao, Iloilo  2016      4    4  \n",
       "2016-05-02  Jayubo, Lambunao, Iloilo  2016      5    2  \n",
       "2016-06-06  Jayubo, Lambunao, Iloilo  2016      6    6  \n",
       "...                              ...   ...    ...  ...  \n",
       "2021-08-02  Jayubo, Lambunao, Iloilo  2021      8    2  \n",
       "2021-09-06  Jayubo, Lambunao, Iloilo  2021      9    6  \n",
       "2021-10-04  Jayubo, Lambunao, Iloilo  2021     10    4  \n",
       "2021-11-03  Jayubo, Lambunao, Iloilo  2021     11    3  \n",
       "2019-05-06  Jayubo, Lambunao, Iloilo  2019      5    6  \n",
       "\n",
       "[70 rows x 11 columns]"
      ]
     },
     "execution_count": 326,
     "metadata": {},
     "output_type": "execute_result"
    }
   ],
   "source": [
    "new_df"
   ]
  },
  {
   "cell_type": "code",
   "execution_count": 327,
   "id": "bdd74200",
   "metadata": {},
   "outputs": [
    {
     "data": {
      "text/plain": [
       "<matplotlib.legend.Legend at 0x1d79bf4c550>"
      ]
     },
     "execution_count": 327,
     "metadata": {},
     "output_type": "execute_result"
    },
    {
     "data": {
      "image/png": "[encoded data removed]",
      "text/plain": [
       "<Figure size 1152x576 with 1 Axes>"
      ]
     },
     "metadata": {
      "needs_background": "light"
     },
     "output_type": "display_data"
    }
   ],
   "source": [
    "plt.figure(figsize=(16,8))\n",
    "\n",
    "plt.plot(new_df['Popu'], \".-\", label = 'Population')\n",
    "\n",
    "plt.title('Search Score Weekly Time Series', fontsize=20)\n",
    "plt.xlabel(\"Time(Year)\", fontsize=16)\n",
    "plt.ylabel(\"Score\", fontsize=16)\n",
    "plt.legend(loc = 'best')"
   ]
  },
  {
   "cell_type": "code",
   "execution_count": 328,
   "id": "7e8048eb",
   "metadata": {},
   "outputs": [
    {
     "data": {
      "text/html": [
       "<div>\n",
       "<style scoped>\n",
       "    .dataframe tbody tr th:only-of-type {\n",
       "        vertical-align: middle;\n",
       "    }\n",
       "\n",
       "    .dataframe tbody tr th {\n",
       "        vertical-align: top;\n",
       "    }\n",
       "\n",
       "    .dataframe thead th {\n",
       "        text-align: right;\n",
       "    }\n",
       "</style>\n",
       "<table border=\"1\" class=\"dataframe\">\n",
       "  <thead>\n",
       "    <tr style=\"text-align: right;\">\n",
       "      <th></th>\n",
       "      <th>index</th>\n",
       "      <th>Unnamed: 0</th>\n",
       "      <th>population_id</th>\n",
       "      <th>Popu</th>\n",
       "      <th>year</th>\n",
       "      <th>month</th>\n",
       "      <th>day</th>\n",
       "    </tr>\n",
       "    <tr>\n",
       "      <th>date</th>\n",
       "      <th></th>\n",
       "      <th></th>\n",
       "      <th></th>\n",
       "      <th></th>\n",
       "      <th></th>\n",
       "      <th></th>\n",
       "      <th></th>\n",
       "    </tr>\n",
       "  </thead>\n",
       "  <tbody>\n",
       "    <tr>\n",
       "      <th>2016-02-29</th>\n",
       "      <td>4</td>\n",
       "      <td>4</td>\n",
       "      <td>5</td>\n",
       "      <td>11</td>\n",
       "      <td>2016</td>\n",
       "      <td>2</td>\n",
       "      <td>1</td>\n",
       "    </tr>\n",
       "    <tr>\n",
       "      <th>2016-03-31</th>\n",
       "      <td>7</td>\n",
       "      <td>7</td>\n",
       "      <td>8</td>\n",
       "      <td>14</td>\n",
       "      <td>2016</td>\n",
       "      <td>3</td>\n",
       "      <td>7</td>\n",
       "    </tr>\n",
       "    <tr>\n",
       "      <th>2016-04-30</th>\n",
       "      <td>10</td>\n",
       "      <td>10</td>\n",
       "      <td>11</td>\n",
       "      <td>14</td>\n",
       "      <td>2016</td>\n",
       "      <td>4</td>\n",
       "      <td>4</td>\n",
       "    </tr>\n",
       "    <tr>\n",
       "      <th>2016-05-31</th>\n",
       "      <td>13</td>\n",
       "      <td>13</td>\n",
       "      <td>14</td>\n",
       "      <td>14</td>\n",
       "      <td>2016</td>\n",
       "      <td>5</td>\n",
       "      <td>2</td>\n",
       "    </tr>\n",
       "    <tr>\n",
       "      <th>2016-06-30</th>\n",
       "      <td>16</td>\n",
       "      <td>16</td>\n",
       "      <td>17</td>\n",
       "      <td>14</td>\n",
       "      <td>2016</td>\n",
       "      <td>6</td>\n",
       "      <td>6</td>\n",
       "    </tr>\n",
       "    <tr>\n",
       "      <th>...</th>\n",
       "      <td>...</td>\n",
       "      <td>...</td>\n",
       "      <td>...</td>\n",
       "      <td>...</td>\n",
       "      <td>...</td>\n",
       "      <td>...</td>\n",
       "      <td>...</td>\n",
       "    </tr>\n",
       "    <tr>\n",
       "      <th>2021-07-31</th>\n",
       "      <td>197</td>\n",
       "      <td>197</td>\n",
       "      <td>202</td>\n",
       "      <td>10</td>\n",
       "      <td>2021</td>\n",
       "      <td>7</td>\n",
       "      <td>5</td>\n",
       "    </tr>\n",
       "    <tr>\n",
       "      <th>2021-08-31</th>\n",
       "      <td>200</td>\n",
       "      <td>200</td>\n",
       "      <td>205</td>\n",
       "      <td>10</td>\n",
       "      <td>2021</td>\n",
       "      <td>8</td>\n",
       "      <td>2</td>\n",
       "    </tr>\n",
       "    <tr>\n",
       "      <th>2021-09-30</th>\n",
       "      <td>203</td>\n",
       "      <td>203</td>\n",
       "      <td>208</td>\n",
       "      <td>10</td>\n",
       "      <td>2021</td>\n",
       "      <td>9</td>\n",
       "      <td>6</td>\n",
       "    </tr>\n",
       "    <tr>\n",
       "      <th>2021-10-31</th>\n",
       "      <td>206</td>\n",
       "      <td>206</td>\n",
       "      <td>211</td>\n",
       "      <td>10</td>\n",
       "      <td>2021</td>\n",
       "      <td>10</td>\n",
       "      <td>4</td>\n",
       "    </tr>\n",
       "    <tr>\n",
       "      <th>2021-11-30</th>\n",
       "      <td>209</td>\n",
       "      <td>209</td>\n",
       "      <td>214</td>\n",
       "      <td>10</td>\n",
       "      <td>2021</td>\n",
       "      <td>11</td>\n",
       "      <td>3</td>\n",
       "    </tr>\n",
       "  </tbody>\n",
       "</table>\n",
       "<p>70 rows × 7 columns</p>\n",
       "</div>"
      ],
      "text/plain": [
       "            index  Unnamed: 0  population_id  Popu  year  month  day\n",
       "date                                                                \n",
       "2016-02-29      4           4              5    11  2016      2    1\n",
       "2016-03-31      7           7              8    14  2016      3    7\n",
       "2016-04-30     10          10             11    14  2016      4    4\n",
       "2016-05-31     13          13             14    14  2016      5    2\n",
       "2016-06-30     16          16             17    14  2016      6    6\n",
       "...           ...         ...            ...   ...   ...    ...  ...\n",
       "2021-07-31    197         197            202    10  2021      7    5\n",
       "2021-08-31    200         200            205    10  2021      8    2\n",
       "2021-09-30    203         203            208    10  2021      9    6\n",
       "2021-10-31    206         206            211    10  2021     10    4\n",
       "2021-11-30    209         209            214    10  2021     11    3\n",
       "\n",
       "[70 rows x 7 columns]"
      ]
     },
     "execution_count": 328,
     "metadata": {},
     "output_type": "execute_result"
    }
   ],
   "source": [
    "monthly = new_df.resample('M').sum()\n",
    "monthly"
   ]
  },
  {
   "cell_type": "code",
   "execution_count": 329,
   "id": "c04cec58",
   "metadata": {},
   "outputs": [],
   "source": [
    "start_date = datetime(2016,1,1)\n",
    "end_date = datetime(2021,11,30)"
   ]
  },
  {
   "cell_type": "code",
   "execution_count": 330,
   "id": "0b651679",
   "metadata": {},
   "outputs": [
    {
     "data": {
      "image/png": "[encoded data removed]",
      "text/plain": [
       "<Figure size 1152x576 with 1 Axes>"
      ]
     },
     "metadata": {
      "needs_background": "light"
     },
     "output_type": "display_data"
    }
   ],
   "source": [
    "plt.figure(figsize=(16,8))\n",
    "\n",
    "plt.plot(monthly['Popu'], \"o-\", label = 'Score')\n",
    "\n",
    "plt.title('Search Score Monthly Time Series', fontsize=20)\n",
    "plt.xlabel(\"Time(Year)\", fontsize=16)\n",
    "plt.ylabel(\"Score\", fontsize=16)\n",
    "plt.legend(loc = 'best')\n",
    "\n",
    "for year in range(start_date.year,end_date.year+1):\n",
    "   plt.axvline(pd.to_datetime(str(year)+'-01-01'), color='k', linestyle='--', alpha=0.2)"
   ]
  },
  {
   "cell_type": "code",
   "execution_count": 331,
   "id": "fc042caf",
   "metadata": {},
   "outputs": [
    {
     "data": {
      "text/plain": [
       "70"
      ]
     },
     "execution_count": 331,
     "metadata": {},
     "output_type": "execute_result"
    }
   ],
   "source": [
    "start_date = datetime(2016,1,1)\n",
    "end_date = datetime(2021,11,30)\n",
    "\n",
    "lim_data = monthly[start_date:end_date]\n",
    "len(lim_data)"
   ]
  },
  {
   "cell_type": "code",
   "execution_count": 332,
   "id": "a54221cc",
   "metadata": {},
   "outputs": [
    {
     "data": {
      "text/html": [
       "<div>\n",
       "<style scoped>\n",
       "    .dataframe tbody tr th:only-of-type {\n",
       "        vertical-align: middle;\n",
       "    }\n",
       "\n",
       "    .dataframe tbody tr th {\n",
       "        vertical-align: top;\n",
       "    }\n",
       "\n",
       "    .dataframe thead th {\n",
       "        text-align: right;\n",
       "    }\n",
       "</style>\n",
       "<table border=\"1\" class=\"dataframe\">\n",
       "  <thead>\n",
       "    <tr style=\"text-align: right;\">\n",
       "      <th></th>\n",
       "      <th>index</th>\n",
       "      <th>Unnamed: 0</th>\n",
       "      <th>population_id</th>\n",
       "      <th>Popu</th>\n",
       "      <th>year</th>\n",
       "      <th>month</th>\n",
       "      <th>day</th>\n",
       "    </tr>\n",
       "    <tr>\n",
       "      <th>date</th>\n",
       "      <th></th>\n",
       "      <th></th>\n",
       "      <th></th>\n",
       "      <th></th>\n",
       "      <th></th>\n",
       "      <th></th>\n",
       "      <th></th>\n",
       "    </tr>\n",
       "  </thead>\n",
       "  <tbody>\n",
       "    <tr>\n",
       "      <th>2016-02-29</th>\n",
       "      <td>4</td>\n",
       "      <td>4</td>\n",
       "      <td>5</td>\n",
       "      <td>11</td>\n",
       "      <td>2016</td>\n",
       "      <td>2</td>\n",
       "      <td>1</td>\n",
       "    </tr>\n",
       "    <tr>\n",
       "      <th>2016-03-31</th>\n",
       "      <td>7</td>\n",
       "      <td>7</td>\n",
       "      <td>8</td>\n",
       "      <td>14</td>\n",
       "      <td>2016</td>\n",
       "      <td>3</td>\n",
       "      <td>7</td>\n",
       "    </tr>\n",
       "    <tr>\n",
       "      <th>2016-04-30</th>\n",
       "      <td>10</td>\n",
       "      <td>10</td>\n",
       "      <td>11</td>\n",
       "      <td>14</td>\n",
       "      <td>2016</td>\n",
       "      <td>4</td>\n",
       "      <td>4</td>\n",
       "    </tr>\n",
       "    <tr>\n",
       "      <th>2016-05-31</th>\n",
       "      <td>13</td>\n",
       "      <td>13</td>\n",
       "      <td>14</td>\n",
       "      <td>14</td>\n",
       "      <td>2016</td>\n",
       "      <td>5</td>\n",
       "      <td>2</td>\n",
       "    </tr>\n",
       "    <tr>\n",
       "      <th>2016-06-30</th>\n",
       "      <td>16</td>\n",
       "      <td>16</td>\n",
       "      <td>17</td>\n",
       "      <td>14</td>\n",
       "      <td>2016</td>\n",
       "      <td>6</td>\n",
       "      <td>6</td>\n",
       "    </tr>\n",
       "    <tr>\n",
       "      <th>...</th>\n",
       "      <td>...</td>\n",
       "      <td>...</td>\n",
       "      <td>...</td>\n",
       "      <td>...</td>\n",
       "      <td>...</td>\n",
       "      <td>...</td>\n",
       "      <td>...</td>\n",
       "    </tr>\n",
       "    <tr>\n",
       "      <th>2021-07-31</th>\n",
       "      <td>197</td>\n",
       "      <td>197</td>\n",
       "      <td>202</td>\n",
       "      <td>10</td>\n",
       "      <td>2021</td>\n",
       "      <td>7</td>\n",
       "      <td>5</td>\n",
       "    </tr>\n",
       "    <tr>\n",
       "      <th>2021-08-31</th>\n",
       "      <td>200</td>\n",
       "      <td>200</td>\n",
       "      <td>205</td>\n",
       "      <td>10</td>\n",
       "      <td>2021</td>\n",
       "      <td>8</td>\n",
       "      <td>2</td>\n",
       "    </tr>\n",
       "    <tr>\n",
       "      <th>2021-09-30</th>\n",
       "      <td>203</td>\n",
       "      <td>203</td>\n",
       "      <td>208</td>\n",
       "      <td>10</td>\n",
       "      <td>2021</td>\n",
       "      <td>9</td>\n",
       "      <td>6</td>\n",
       "    </tr>\n",
       "    <tr>\n",
       "      <th>2021-10-31</th>\n",
       "      <td>206</td>\n",
       "      <td>206</td>\n",
       "      <td>211</td>\n",
       "      <td>10</td>\n",
       "      <td>2021</td>\n",
       "      <td>10</td>\n",
       "      <td>4</td>\n",
       "    </tr>\n",
       "    <tr>\n",
       "      <th>2021-11-30</th>\n",
       "      <td>209</td>\n",
       "      <td>209</td>\n",
       "      <td>214</td>\n",
       "      <td>10</td>\n",
       "      <td>2021</td>\n",
       "      <td>11</td>\n",
       "      <td>3</td>\n",
       "    </tr>\n",
       "  </tbody>\n",
       "</table>\n",
       "<p>70 rows × 7 columns</p>\n",
       "</div>"
      ],
      "text/plain": [
       "            index  Unnamed: 0  population_id  Popu  year  month  day\n",
       "date                                                                \n",
       "2016-02-29      4           4              5    11  2016      2    1\n",
       "2016-03-31      7           7              8    14  2016      3    7\n",
       "2016-04-30     10          10             11    14  2016      4    4\n",
       "2016-05-31     13          13             14    14  2016      5    2\n",
       "2016-06-30     16          16             17    14  2016      6    6\n",
       "...           ...         ...            ...   ...   ...    ...  ...\n",
       "2021-07-31    197         197            202    10  2021      7    5\n",
       "2021-08-31    200         200            205    10  2021      8    2\n",
       "2021-09-30    203         203            208    10  2021      9    6\n",
       "2021-10-31    206         206            211    10  2021     10    4\n",
       "2021-11-30    209         209            214    10  2021     11    3\n",
       "\n",
       "[70 rows x 7 columns]"
      ]
     },
     "execution_count": 332,
     "metadata": {},
     "output_type": "execute_result"
    }
   ],
   "source": [
    "lim_data"
   ]
  },
  {
   "cell_type": "code",
   "execution_count": 333,
   "id": "0286dd38",
   "metadata": {},
   "outputs": [
    {
     "data": {
      "image/png": "[encoded data removed]",
      "text/plain": [
       "<Figure size 1152x576 with 1 Axes>"
      ]
     },
     "metadata": {
      "needs_background": "light"
     },
     "output_type": "display_data"
    }
   ],
   "source": [
    "plt.figure(figsize=(16,8))\n",
    "\n",
    "plt.plot(lim_data['Popu'], \"o-\", label = 'Population')\n",
    "\n",
    "plt.title('Monthly Population Time Series', fontsize=20)\n",
    "plt.xlabel(\"Time\", fontsize=16)\n",
    "plt.ylabel(\"Population\", fontsize=16)\n",
    "plt.legend(loc = 'best')\n",
    "\n",
    "for year in range(start_date.year,end_date.year+1):\n",
    "   plt.axvline(pd.to_datetime(str(year)+'-01-01'), color='k', linestyle='--', alpha=0.2)"
   ]
  },
  {
   "cell_type": "code",
   "execution_count": 334,
   "id": "dc19274f",
   "metadata": {},
   "outputs": [],
   "source": [
    "# DF Test using statsmodels adfuller\n",
    "from statsmodels.tsa.stattools import adfuller\n",
    "\n",
    "def df_test(time_series):\n",
    "    \n",
    "    print('Results of Dickey-Fuller Test:')\n",
    "    dftest = adfuller(time_series, autolag = 'AIC')\n",
    "    dfoutput = pd.Series(dftest[0:4], index=['Test Statistic', 'p-value', '#Lags Used', 'Number of Observations Used'])\n",
    "    \n",
    "    for key, value in dftest[4].items():\n",
    "        dfoutput['Critical Value (%s)' %key] = value\n",
    "    \n",
    "    print (dfoutput)"
   ]
  },
  {
   "cell_type": "code",
   "execution_count": 335,
   "id": "8d4445c0",
   "metadata": {},
   "outputs": [
    {
     "name": "stdout",
     "output_type": "stream",
     "text": [
      "Results of Dickey-Fuller Test:\n",
      "Test Statistic                 -1.239773\n",
      "p-value                         0.656257\n",
      "#Lags Used                      0.000000\n",
      "Number of Observations Used    69.000000\n",
      "Critical Value (1%)            -3.528890\n",
      "Critical Value (5%)            -2.904440\n",
      "Critical Value (10%)           -2.589656\n",
      "dtype: float64\n"
     ]
    }
   ],
   "source": [
    "df_test(lim_data.Popu)"
   ]
  },
  {
   "cell_type": "code",
   "execution_count": 336,
   "id": "0c0ac3f7",
   "metadata": {},
   "outputs": [
    {
     "name": "stdout",
     "output_type": "stream",
     "text": [
      "[11, 14, 14, 14, 14, 14, 14, 14, 13, 13, 13, 13, 13, 16, 16, 16, 16, 16, 16, 16, 16, 15, 15, 15, 15, 17, 17, 17, 17, 14, 14, 14, 14, 14, 14, 13, 13, 14, 14, 14, 13, 13, 10, 10, 11, 8, 8, 8, 8, 8, 8, 9, 9, 9, 9, 9, 9, 9, 9, 9, 9, 10, 10, 10, 10, 10, 10, 10, 10, 10]\n"
     ]
    }
   ],
   "source": [
    "print(list(lim_data.Popu))"
   ]
  },
  {
   "cell_type": "code",
   "execution_count": 337,
   "id": "06613d46",
   "metadata": {},
   "outputs": [
    {
     "name": "stdout",
     "output_type": "stream",
     "text": [
      "[3.0, 0.0, 0.0, 0.0, 0.0, 0.0, 0.0, -1.0, 0.0, 0.0, 0.0, 0.0, 3.0, 0.0, 0.0, 0.0, 0.0, 0.0, 0.0, 0.0, -1.0, 0.0, 0.0, 0.0, 2.0, 0.0, 0.0, 0.0, -3.0, 0.0, 0.0, 0.0, 0.0, 0.0, -1.0, 0.0, 1.0, 0.0, 0.0, -1.0, 0.0, -3.0, 0.0, 1.0, -3.0, 0.0, 0.0, 0.0, 0.0, 0.0, 1.0, 0.0, 0.0, 0.0, 0.0, 0.0, 0.0, 0.0, 0.0, 0.0, 1.0, 0.0, 0.0, 0.0, 0.0, 0.0, 0.0, 0.0, 0.0]\n"
     ]
    }
   ],
   "source": [
    "first_diff = lim_data.Popu.diff()[1:]\n",
    "\n",
    "print(list(first_diff))"
   ]
  },
  {
   "cell_type": "code",
   "execution_count": 338,
   "id": "97e053a2",
   "metadata": {},
   "outputs": [
    {
     "name": "stderr",
     "output_type": "stream",
     "text": [
      "No handles with labels found to put in legend.\n"
     ]
    },
    {
     "data": {
      "text/plain": [
       "<matplotlib.lines.Line2D at 0x1d799755280>"
      ]
     },
     "execution_count": 338,
     "metadata": {},
     "output_type": "execute_result"
    },
    {
     "data": {
      "image/png": "[encoded data removed]",
      "text/plain": [
       "<Figure size 1152x576 with 1 Axes>"
      ]
     },
     "metadata": {
      "needs_background": "light"
     },
     "output_type": "display_data"
    }
   ],
   "source": [
    "plt.figure(figsize=(16,8))\n",
    "\n",
    "plt.plot(first_diff)\n",
    "\n",
    "plt.title('First Diff Time Series')\n",
    "plt.xlabel(\"Date\")\n",
    "plt.ylabel(\"Popu\")\n",
    "plt.legend(loc = 'best')\n",
    "\n",
    "for year in range(start_date.year,end_date.year+1):\n",
    "   plt.axvline(pd.to_datetime(str(year)+'-01-01'), color='k', linestyle='--', alpha=0.2)\n",
    "plt.axhline(0, color='k', linestyle='--', alpha=0.2)"
   ]
  },
  {
   "cell_type": "code",
   "execution_count": 339,
   "id": "8e36e9a9",
   "metadata": {},
   "outputs": [
    {
     "name": "stdout",
     "output_type": "stream",
     "text": [
      "Results of Dickey-Fuller Test:\n",
      "Test Statistic                -9.366023e+00\n",
      "p-value                        7.596611e-16\n",
      "#Lags Used                     0.000000e+00\n",
      "Number of Observations Used    6.800000e+01\n",
      "Critical Value (1%)           -3.530399e+00\n",
      "Critical Value (5%)           -2.905087e+00\n",
      "Critical Value (10%)          -2.590001e+00\n",
      "dtype: float64\n"
     ]
    }
   ],
   "source": [
    "df_test(first_diff)"
   ]
  },
  {
   "cell_type": "code",
   "execution_count": 340,
   "id": "e0fe7b54",
   "metadata": {},
   "outputs": [
    {
     "data": {
      "image/png": "[encoded data removed]",
      "text/plain": [
       "<Figure size 432x288 with 4 Axes>"
      ]
     },
     "metadata": {
      "needs_background": "light"
     },
     "output_type": "display_data"
    }
   ],
   "source": [
    "import statsmodels.api as sm\n",
    "sm.tsa.seasonal_decompose(lim_data.Popu).plot()\n",
    "plt.show()"
   ]
  },
  {
   "cell_type": "code",
   "execution_count": 341,
   "id": "79d9a424",
   "metadata": {},
   "outputs": [
    {
     "data": {
      "image/png": "[encoded data removed]",
      "text/plain": [
       "<Figure size 432x288 with 4 Axes>"
      ]
     },
     "metadata": {
      "needs_background": "light"
     },
     "output_type": "display_data"
    }
   ],
   "source": [
    "sm.tsa.seasonal_decompose(first_diff).plot()\n",
    "plt.show()"
   ]
  },
  {
   "cell_type": "code",
   "execution_count": 342,
   "id": "3696e03e",
   "metadata": {},
   "outputs": [
    {
     "data": {
      "image/png": "[encoded data removed]",
      "text/plain": [
       "<Figure size 432x288 with 1 Axes>"
      ]
     },
     "metadata": {
      "needs_background": "light"
     },
     "output_type": "display_data"
    }
   ],
   "source": [
    "from statsmodels.tsa.stattools import acf, pacf\n",
    "from statsmodels.graphics.tsaplots import plot_acf, plot_pacf\n",
    "\n",
    "acf_plot = plot_acf(first_diff)"
   ]
  },
  {
   "cell_type": "code",
   "execution_count": 343,
   "id": "3ec30ade",
   "metadata": {},
   "outputs": [
    {
     "data": {
      "image/png": "[encoded data removed]",
      "text/plain": [
       "<Figure size 432x288 with 1 Axes>"
      ]
     },
     "metadata": {
      "needs_background": "light"
     },
     "output_type": "display_data"
    }
   ],
   "source": [
    "pacf_plot = plot_pacf(first_diff)"
   ]
  },
  {
   "cell_type": "code",
   "execution_count": 344,
   "id": "f4a94739",
   "metadata": {},
   "outputs": [
    {
     "data": {
      "text/html": [
       "<div>\n",
       "<style scoped>\n",
       "    .dataframe tbody tr th:only-of-type {\n",
       "        vertical-align: middle;\n",
       "    }\n",
       "\n",
       "    .dataframe tbody tr th {\n",
       "        vertical-align: top;\n",
       "    }\n",
       "\n",
       "    .dataframe thead th {\n",
       "        text-align: right;\n",
       "    }\n",
       "</style>\n",
       "<table border=\"1\" class=\"dataframe\">\n",
       "  <thead>\n",
       "    <tr style=\"text-align: right;\">\n",
       "      <th></th>\n",
       "      <th>index</th>\n",
       "      <th>Unnamed: 0</th>\n",
       "      <th>population_id</th>\n",
       "      <th>Popu</th>\n",
       "      <th>year</th>\n",
       "      <th>month</th>\n",
       "      <th>day</th>\n",
       "    </tr>\n",
       "    <tr>\n",
       "      <th>date</th>\n",
       "      <th></th>\n",
       "      <th></th>\n",
       "      <th></th>\n",
       "      <th></th>\n",
       "      <th></th>\n",
       "      <th></th>\n",
       "      <th></th>\n",
       "    </tr>\n",
       "  </thead>\n",
       "  <tbody>\n",
       "    <tr>\n",
       "      <th>2016-02-29</th>\n",
       "      <td>4</td>\n",
       "      <td>4</td>\n",
       "      <td>5</td>\n",
       "      <td>11</td>\n",
       "      <td>2016</td>\n",
       "      <td>2</td>\n",
       "      <td>1</td>\n",
       "    </tr>\n",
       "    <tr>\n",
       "      <th>2016-03-31</th>\n",
       "      <td>7</td>\n",
       "      <td>7</td>\n",
       "      <td>8</td>\n",
       "      <td>14</td>\n",
       "      <td>2016</td>\n",
       "      <td>3</td>\n",
       "      <td>7</td>\n",
       "    </tr>\n",
       "    <tr>\n",
       "      <th>2016-04-30</th>\n",
       "      <td>10</td>\n",
       "      <td>10</td>\n",
       "      <td>11</td>\n",
       "      <td>14</td>\n",
       "      <td>2016</td>\n",
       "      <td>4</td>\n",
       "      <td>4</td>\n",
       "    </tr>\n",
       "    <tr>\n",
       "      <th>2016-05-31</th>\n",
       "      <td>13</td>\n",
       "      <td>13</td>\n",
       "      <td>14</td>\n",
       "      <td>14</td>\n",
       "      <td>2016</td>\n",
       "      <td>5</td>\n",
       "      <td>2</td>\n",
       "    </tr>\n",
       "    <tr>\n",
       "      <th>2016-06-30</th>\n",
       "      <td>16</td>\n",
       "      <td>16</td>\n",
       "      <td>17</td>\n",
       "      <td>14</td>\n",
       "      <td>2016</td>\n",
       "      <td>6</td>\n",
       "      <td>6</td>\n",
       "    </tr>\n",
       "    <tr>\n",
       "      <th>...</th>\n",
       "      <td>...</td>\n",
       "      <td>...</td>\n",
       "      <td>...</td>\n",
       "      <td>...</td>\n",
       "      <td>...</td>\n",
       "      <td>...</td>\n",
       "      <td>...</td>\n",
       "    </tr>\n",
       "    <tr>\n",
       "      <th>2021-07-31</th>\n",
       "      <td>197</td>\n",
       "      <td>197</td>\n",
       "      <td>202</td>\n",
       "      <td>10</td>\n",
       "      <td>2021</td>\n",
       "      <td>7</td>\n",
       "      <td>5</td>\n",
       "    </tr>\n",
       "    <tr>\n",
       "      <th>2021-08-31</th>\n",
       "      <td>200</td>\n",
       "      <td>200</td>\n",
       "      <td>205</td>\n",
       "      <td>10</td>\n",
       "      <td>2021</td>\n",
       "      <td>8</td>\n",
       "      <td>2</td>\n",
       "    </tr>\n",
       "    <tr>\n",
       "      <th>2021-09-30</th>\n",
       "      <td>203</td>\n",
       "      <td>203</td>\n",
       "      <td>208</td>\n",
       "      <td>10</td>\n",
       "      <td>2021</td>\n",
       "      <td>9</td>\n",
       "      <td>6</td>\n",
       "    </tr>\n",
       "    <tr>\n",
       "      <th>2021-10-31</th>\n",
       "      <td>206</td>\n",
       "      <td>206</td>\n",
       "      <td>211</td>\n",
       "      <td>10</td>\n",
       "      <td>2021</td>\n",
       "      <td>10</td>\n",
       "      <td>4</td>\n",
       "    </tr>\n",
       "    <tr>\n",
       "      <th>2021-11-30</th>\n",
       "      <td>209</td>\n",
       "      <td>209</td>\n",
       "      <td>214</td>\n",
       "      <td>10</td>\n",
       "      <td>2021</td>\n",
       "      <td>11</td>\n",
       "      <td>3</td>\n",
       "    </tr>\n",
       "  </tbody>\n",
       "</table>\n",
       "<p>70 rows × 7 columns</p>\n",
       "</div>"
      ],
      "text/plain": [
       "            index  Unnamed: 0  population_id  Popu  year  month  day\n",
       "date                                                                \n",
       "2016-02-29      4           4              5    11  2016      2    1\n",
       "2016-03-31      7           7              8    14  2016      3    7\n",
       "2016-04-30     10          10             11    14  2016      4    4\n",
       "2016-05-31     13          13             14    14  2016      5    2\n",
       "2016-06-30     16          16             17    14  2016      6    6\n",
       "...           ...         ...            ...   ...   ...    ...  ...\n",
       "2021-07-31    197         197            202    10  2021      7    5\n",
       "2021-08-31    200         200            205    10  2021      8    2\n",
       "2021-09-30    203         203            208    10  2021      9    6\n",
       "2021-10-31    206         206            211    10  2021     10    4\n",
       "2021-11-30    209         209            214    10  2021     11    3\n",
       "\n",
       "[70 rows x 7 columns]"
      ]
     },
     "execution_count": 344,
     "metadata": {},
     "output_type": "execute_result"
    }
   ],
   "source": [
    "lim_data"
   ]
  },
  {
   "cell_type": "code",
   "execution_count": 345,
   "id": "7073cb95",
   "metadata": {},
   "outputs": [],
   "source": [
    "from datetime import timedelta\n",
    "\n",
    "train_end = datetime(2020,12,31)\n",
    "test_end = datetime(2021,11,30)\n",
    "\n",
    "train_data = lim_data[:train_end]\n",
    "test_data = lim_data[train_end + timedelta(days=1):test_end]"
   ]
  },
  {
   "cell_type": "code",
   "execution_count": 346,
   "id": "53409b53",
   "metadata": {},
   "outputs": [
    {
     "data": {
      "text/html": [
       "<div>\n",
       "<style scoped>\n",
       "    .dataframe tbody tr th:only-of-type {\n",
       "        vertical-align: middle;\n",
       "    }\n",
       "\n",
       "    .dataframe tbody tr th {\n",
       "        vertical-align: top;\n",
       "    }\n",
       "\n",
       "    .dataframe thead th {\n",
       "        text-align: right;\n",
       "    }\n",
       "</style>\n",
       "<table border=\"1\" class=\"dataframe\">\n",
       "  <thead>\n",
       "    <tr style=\"text-align: right;\">\n",
       "      <th></th>\n",
       "      <th>index</th>\n",
       "      <th>Unnamed: 0</th>\n",
       "      <th>population_id</th>\n",
       "      <th>Popu</th>\n",
       "      <th>year</th>\n",
       "      <th>month</th>\n",
       "      <th>day</th>\n",
       "    </tr>\n",
       "    <tr>\n",
       "      <th>date</th>\n",
       "      <th></th>\n",
       "      <th></th>\n",
       "      <th></th>\n",
       "      <th></th>\n",
       "      <th></th>\n",
       "      <th></th>\n",
       "      <th></th>\n",
       "    </tr>\n",
       "  </thead>\n",
       "  <tbody>\n",
       "    <tr>\n",
       "      <th>2020-08-31</th>\n",
       "      <td>164</td>\n",
       "      <td>164</td>\n",
       "      <td>169</td>\n",
       "      <td>9</td>\n",
       "      <td>2020</td>\n",
       "      <td>8</td>\n",
       "      <td>3</td>\n",
       "    </tr>\n",
       "    <tr>\n",
       "      <th>2020-09-30</th>\n",
       "      <td>167</td>\n",
       "      <td>167</td>\n",
       "      <td>172</td>\n",
       "      <td>9</td>\n",
       "      <td>2020</td>\n",
       "      <td>9</td>\n",
       "      <td>7</td>\n",
       "    </tr>\n",
       "    <tr>\n",
       "      <th>2020-10-31</th>\n",
       "      <td>170</td>\n",
       "      <td>170</td>\n",
       "      <td>175</td>\n",
       "      <td>9</td>\n",
       "      <td>2020</td>\n",
       "      <td>10</td>\n",
       "      <td>5</td>\n",
       "    </tr>\n",
       "    <tr>\n",
       "      <th>2020-11-30</th>\n",
       "      <td>173</td>\n",
       "      <td>173</td>\n",
       "      <td>178</td>\n",
       "      <td>9</td>\n",
       "      <td>2020</td>\n",
       "      <td>11</td>\n",
       "      <td>3</td>\n",
       "    </tr>\n",
       "    <tr>\n",
       "      <th>2020-12-31</th>\n",
       "      <td>176</td>\n",
       "      <td>176</td>\n",
       "      <td>181</td>\n",
       "      <td>9</td>\n",
       "      <td>2020</td>\n",
       "      <td>12</td>\n",
       "      <td>7</td>\n",
       "    </tr>\n",
       "  </tbody>\n",
       "</table>\n",
       "</div>"
      ],
      "text/plain": [
       "            index  Unnamed: 0  population_id  Popu  year  month  day\n",
       "date                                                                \n",
       "2020-08-31    164         164            169     9  2020      8    3\n",
       "2020-09-30    167         167            172     9  2020      9    7\n",
       "2020-10-31    170         170            175     9  2020     10    5\n",
       "2020-11-30    173         173            178     9  2020     11    3\n",
       "2020-12-31    176         176            181     9  2020     12    7"
      ]
     },
     "execution_count": 346,
     "metadata": {},
     "output_type": "execute_result"
    }
   ],
   "source": [
    "train_data.tail(5)"
   ]
  },
  {
   "cell_type": "code",
   "execution_count": 347,
   "id": "d44c16b1",
   "metadata": {},
   "outputs": [
    {
     "data": {
      "text/html": [
       "<div>\n",
       "<style scoped>\n",
       "    .dataframe tbody tr th:only-of-type {\n",
       "        vertical-align: middle;\n",
       "    }\n",
       "\n",
       "    .dataframe tbody tr th {\n",
       "        vertical-align: top;\n",
       "    }\n",
       "\n",
       "    .dataframe thead th {\n",
       "        text-align: right;\n",
       "    }\n",
       "</style>\n",
       "<table border=\"1\" class=\"dataframe\">\n",
       "  <thead>\n",
       "    <tr style=\"text-align: right;\">\n",
       "      <th></th>\n",
       "      <th>index</th>\n",
       "      <th>Unnamed: 0</th>\n",
       "      <th>population_id</th>\n",
       "      <th>Popu</th>\n",
       "      <th>year</th>\n",
       "      <th>month</th>\n",
       "      <th>day</th>\n",
       "    </tr>\n",
       "    <tr>\n",
       "      <th>date</th>\n",
       "      <th></th>\n",
       "      <th></th>\n",
       "      <th></th>\n",
       "      <th></th>\n",
       "      <th></th>\n",
       "      <th></th>\n",
       "      <th></th>\n",
       "    </tr>\n",
       "  </thead>\n",
       "  <tbody>\n",
       "    <tr>\n",
       "      <th>2021-01-31</th>\n",
       "      <td>179</td>\n",
       "      <td>179</td>\n",
       "      <td>184</td>\n",
       "      <td>9</td>\n",
       "      <td>2021</td>\n",
       "      <td>1</td>\n",
       "      <td>4</td>\n",
       "    </tr>\n",
       "    <tr>\n",
       "      <th>2021-02-28</th>\n",
       "      <td>182</td>\n",
       "      <td>182</td>\n",
       "      <td>187</td>\n",
       "      <td>9</td>\n",
       "      <td>2021</td>\n",
       "      <td>2</td>\n",
       "      <td>1</td>\n",
       "    </tr>\n",
       "    <tr>\n",
       "      <th>2021-03-31</th>\n",
       "      <td>185</td>\n",
       "      <td>185</td>\n",
       "      <td>190</td>\n",
       "      <td>10</td>\n",
       "      <td>2021</td>\n",
       "      <td>3</td>\n",
       "      <td>1</td>\n",
       "    </tr>\n",
       "    <tr>\n",
       "      <th>2021-04-30</th>\n",
       "      <td>188</td>\n",
       "      <td>188</td>\n",
       "      <td>193</td>\n",
       "      <td>10</td>\n",
       "      <td>2021</td>\n",
       "      <td>4</td>\n",
       "      <td>5</td>\n",
       "    </tr>\n",
       "    <tr>\n",
       "      <th>2021-05-31</th>\n",
       "      <td>191</td>\n",
       "      <td>191</td>\n",
       "      <td>196</td>\n",
       "      <td>10</td>\n",
       "      <td>2021</td>\n",
       "      <td>5</td>\n",
       "      <td>3</td>\n",
       "    </tr>\n",
       "    <tr>\n",
       "      <th>2021-06-30</th>\n",
       "      <td>194</td>\n",
       "      <td>194</td>\n",
       "      <td>199</td>\n",
       "      <td>10</td>\n",
       "      <td>2021</td>\n",
       "      <td>6</td>\n",
       "      <td>7</td>\n",
       "    </tr>\n",
       "    <tr>\n",
       "      <th>2021-07-31</th>\n",
       "      <td>197</td>\n",
       "      <td>197</td>\n",
       "      <td>202</td>\n",
       "      <td>10</td>\n",
       "      <td>2021</td>\n",
       "      <td>7</td>\n",
       "      <td>5</td>\n",
       "    </tr>\n",
       "    <tr>\n",
       "      <th>2021-08-31</th>\n",
       "      <td>200</td>\n",
       "      <td>200</td>\n",
       "      <td>205</td>\n",
       "      <td>10</td>\n",
       "      <td>2021</td>\n",
       "      <td>8</td>\n",
       "      <td>2</td>\n",
       "    </tr>\n",
       "    <tr>\n",
       "      <th>2021-09-30</th>\n",
       "      <td>203</td>\n",
       "      <td>203</td>\n",
       "      <td>208</td>\n",
       "      <td>10</td>\n",
       "      <td>2021</td>\n",
       "      <td>9</td>\n",
       "      <td>6</td>\n",
       "    </tr>\n",
       "    <tr>\n",
       "      <th>2021-10-31</th>\n",
       "      <td>206</td>\n",
       "      <td>206</td>\n",
       "      <td>211</td>\n",
       "      <td>10</td>\n",
       "      <td>2021</td>\n",
       "      <td>10</td>\n",
       "      <td>4</td>\n",
       "    </tr>\n",
       "    <tr>\n",
       "      <th>2021-11-30</th>\n",
       "      <td>209</td>\n",
       "      <td>209</td>\n",
       "      <td>214</td>\n",
       "      <td>10</td>\n",
       "      <td>2021</td>\n",
       "      <td>11</td>\n",
       "      <td>3</td>\n",
       "    </tr>\n",
       "  </tbody>\n",
       "</table>\n",
       "</div>"
      ],
      "text/plain": [
       "            index  Unnamed: 0  population_id  Popu  year  month  day\n",
       "date                                                                \n",
       "2021-01-31    179         179            184     9  2021      1    4\n",
       "2021-02-28    182         182            187     9  2021      2    1\n",
       "2021-03-31    185         185            190    10  2021      3    1\n",
       "2021-04-30    188         188            193    10  2021      4    5\n",
       "2021-05-31    191         191            196    10  2021      5    3\n",
       "2021-06-30    194         194            199    10  2021      6    7\n",
       "2021-07-31    197         197            202    10  2021      7    5\n",
       "2021-08-31    200         200            205    10  2021      8    2\n",
       "2021-09-30    203         203            208    10  2021      9    6\n",
       "2021-10-31    206         206            211    10  2021     10    4\n",
       "2021-11-30    209         209            214    10  2021     11    3"
      ]
     },
     "execution_count": 347,
     "metadata": {},
     "output_type": "execute_result"
    }
   ],
   "source": [
    "test_data"
   ]
  },
  {
   "cell_type": "code",
   "execution_count": 348,
   "id": "d8a9755a",
   "metadata": {},
   "outputs": [
    {
     "data": {
      "image/png": "[encoded data removed]",
      "text/plain": [
       "<Figure size 1152x576 with 1 Axes>"
      ]
     },
     "metadata": {
      "needs_background": "light"
     },
     "output_type": "display_data"
    }
   ],
   "source": [
    "from statsmodels.tsa.api import ExponentialSmoothing\n",
    "\n",
    "\n",
    "holt_winter = ExponentialSmoothing(np.asarray(train_data['Popu']), seasonal_periods=12, trend='add', seasonal='add')\n",
    "\n",
    "hw_fit = holt_winter.fit()\n",
    "\n",
    "hw_forecast = hw_fit.forecast(len(test_data))\n",
    "\n",
    "plt.figure(figsize=(16,8))\n",
    "\n",
    "plt.plot(train_data.index, train_data['Popu'], \"b.-\", label='Train Data')\n",
    "plt.plot(test_data.index, test_data['Popu'], \"ro-\", label='Original Test Data')\n",
    "plt.plot(test_data.index, hw_forecast, \"gx-\", label='Holt_Winter Forecast Data')\n",
    "plt.ylabel('Population', fontsize=16)\n",
    "plt.xlabel('Date', fontsize=16)\n",
    "plt.legend(loc='best')\n",
    "plt.title('Holt Winters Forecast', fontsize=20)\n",
    "plt.show()"
   ]
  },
  {
   "cell_type": "code",
   "execution_count": 349,
   "id": "e93c7dd3",
   "metadata": {},
   "outputs": [
    {
     "data": {
      "text/plain": [
       "[9.041123529880096,\n",
       " 9.245193762816635,\n",
       " 11.270297763789543,\n",
       " 11.496032077034123,\n",
       " 11.922430314442524,\n",
       " 11.949476182550509,\n",
       " 11.5771807040746,\n",
       " 11.205522895476971,\n",
       " 11.43455678158493,\n",
       " 11.664221973399721,\n",
       " 11.094570095752392]"
      ]
     },
     "execution_count": 349,
     "metadata": {},
     "output_type": "execute_result"
    }
   ],
   "source": [
    "list(hw_forecast)"
   ]
  },
  {
   "cell_type": "code",
   "execution_count": 350,
   "id": "fc2525a1",
   "metadata": {},
   "outputs": [
    {
     "data": {
      "text/plain": [
       "date\n",
       "2021-01-31     9\n",
       "2021-02-28     9\n",
       "2021-03-31    10\n",
       "2021-04-30    10\n",
       "2021-05-31    10\n",
       "2021-06-30    10\n",
       "2021-07-31    10\n",
       "2021-08-31    10\n",
       "2021-09-30    10\n",
       "2021-10-31    10\n",
       "2021-11-30    10\n",
       "Freq: M, Name: Popu, dtype: int64"
      ]
     },
     "execution_count": 350,
     "metadata": {},
     "output_type": "execute_result"
    }
   ],
   "source": [
    "test_data['Popu']"
   ]
  },
  {
   "cell_type": "code",
   "execution_count": 351,
   "id": "16d7ce0b",
   "metadata": {},
   "outputs": [],
   "source": [
    "hw_residuals = test_data['Popu'] - hw_forecast"
   ]
  },
  {
   "cell_type": "code",
   "execution_count": 352,
   "id": "c67cc03e",
   "metadata": {},
   "outputs": [
    {
     "name": "stdout",
     "output_type": "stream",
     "text": [
      "Mean Absolute Percent Error: 0.13\n"
     ]
    }
   ],
   "source": [
    "print('Mean Absolute Percent Error:', round(np.mean(abs(hw_residuals/test_data.Popu)),2))"
   ]
  },
  {
   "cell_type": "code",
   "execution_count": 353,
   "id": "3d256800",
   "metadata": {},
   "outputs": [
    {
     "name": "stdout",
     "output_type": "stream",
     "text": [
      "Root Mean Squared Error: 1.3940207141455192\n"
     ]
    }
   ],
   "source": [
    "print('Root Mean Squared Error:', np.sqrt(np.mean(hw_residuals**2)))"
   ]
  },
  {
   "cell_type": "code",
   "execution_count": 354,
   "id": "df412c83",
   "metadata": {},
   "outputs": [
    {
     "name": "stdout",
     "output_type": "stream",
     "text": [
      "Performing stepwise search to minimize aic\n",
      " ARIMA(0,1,0)(1,1,1)[12]             : AIC=138.663, Time=0.11 sec\n",
      " ARIMA(0,1,0)(0,1,0)[12]             : AIC=149.841, Time=0.02 sec\n",
      " ARIMA(1,1,0)(1,1,0)[12]             : AIC=138.600, Time=0.06 sec\n",
      " ARIMA(0,1,1)(0,1,1)[12]             : AIC=137.544, Time=0.09 sec\n",
      " ARIMA(0,1,1)(0,1,0)[12]             : AIC=148.275, Time=0.03 sec\n",
      " ARIMA(0,1,1)(1,1,1)[12]             : AIC=139.529, Time=0.16 sec\n",
      " ARIMA(0,1,1)(0,1,2)[12]             : AIC=139.536, Time=0.20 sec\n",
      " ARIMA(0,1,1)(1,1,0)[12]             : AIC=138.605, Time=0.06 sec\n",
      " ARIMA(0,1,1)(1,1,2)[12]             : AIC=inf, Time=0.92 sec\n",
      " ARIMA(0,1,0)(0,1,1)[12]             : AIC=137.002, Time=0.05 sec\n",
      " ARIMA(0,1,0)(0,1,2)[12]             : AIC=138.800, Time=0.12 sec\n",
      " ARIMA(0,1,0)(1,1,0)[12]             : AIC=137.345, Time=0.06 sec\n",
      " ARIMA(0,1,0)(1,1,2)[12]             : AIC=inf, Time=0.71 sec\n",
      " ARIMA(1,1,0)(0,1,1)[12]             : AIC=137.650, Time=0.08 sec\n",
      " ARIMA(1,1,1)(0,1,1)[12]             : AIC=139.535, Time=0.11 sec\n",
      " ARIMA(0,1,0)(0,1,1)[12] intercept   : AIC=137.985, Time=0.11 sec\n",
      "\n",
      "Best model:  ARIMA(0,1,0)(0,1,1)[12]          \n",
      "Total fit time: 2.882 seconds\n"
     ]
    },
    {
     "data": {
      "text/html": [
       "<table class=\"simpletable\">\n",
       "<caption>SARIMAX Results</caption>\n",
       "<tr>\n",
       "  <th>Dep. Variable:</th>                   <td>y</td>                <th>  No. Observations:  </th>   <td>59</td>   \n",
       "</tr>\n",
       "<tr>\n",
       "  <th>Model:</th>           <td>SARIMAX(0, 1, 0)x(0, 1, [1], 12)</td> <th>  Log Likelihood     </th> <td>-66.501</td>\n",
       "</tr>\n",
       "<tr>\n",
       "  <th>Date:</th>                    <td>Thu, 25 Nov 2021</td>         <th>  AIC                </th> <td>137.002</td>\n",
       "</tr>\n",
       "<tr>\n",
       "  <th>Time:</th>                        <td>09:00:47</td>             <th>  BIC                </th> <td>140.659</td>\n",
       "</tr>\n",
       "<tr>\n",
       "  <th>Sample:</th>                          <td>0</td>                <th>  HQIC               </th> <td>138.372</td>\n",
       "</tr>\n",
       "<tr>\n",
       "  <th></th>                               <td> - 59</td>              <th>                     </th>    <td> </td>   \n",
       "</tr>\n",
       "<tr>\n",
       "  <th>Covariance Type:</th>                <td>opg</td>               <th>                     </th>    <td> </td>   \n",
       "</tr>\n",
       "</table>\n",
       "<table class=\"simpletable\">\n",
       "<tr>\n",
       "      <td></td>        <th>coef</th>     <th>std err</th>      <th>z</th>      <th>P>|z|</th>  <th>[0.025</th>    <th>0.975]</th>  \n",
       "</tr>\n",
       "<tr>\n",
       "  <th>ma.S.L12</th> <td>   -0.7237</td> <td>    0.213</td> <td>   -3.396</td> <td> 0.001</td> <td>   -1.141</td> <td>   -0.306</td>\n",
       "</tr>\n",
       "<tr>\n",
       "  <th>sigma2</th>   <td>    0.8799</td> <td>    0.149</td> <td>    5.912</td> <td> 0.000</td> <td>    0.588</td> <td>    1.172</td>\n",
       "</tr>\n",
       "</table>\n",
       "<table class=\"simpletable\">\n",
       "<tr>\n",
       "  <th>Ljung-Box (L1) (Q):</th>     <td>1.94</td> <th>  Jarque-Bera (JB):  </th> <td>23.14</td>\n",
       "</tr>\n",
       "<tr>\n",
       "  <th>Prob(Q):</th>                <td>0.16</td> <th>  Prob(JB):          </th> <td>0.00</td> \n",
       "</tr>\n",
       "<tr>\n",
       "  <th>Heteroskedasticity (H):</th> <td>7.64</td> <th>  Skew:              </th> <td>-1.41</td>\n",
       "</tr>\n",
       "<tr>\n",
       "  <th>Prob(H) (two-sided):</th>    <td>0.00</td> <th>  Kurtosis:          </th> <td>5.03</td> \n",
       "</tr>\n",
       "</table><br/><br/>Warnings:<br/>[1] Covariance matrix calculated using the outer product of gradients (complex-step)."
      ],
      "text/plain": [
       "<class 'statsmodels.iolib.summary.Summary'>\n",
       "\"\"\"\n",
       "                                      SARIMAX Results                                       \n",
       "============================================================================================\n",
       "Dep. Variable:                                    y   No. Observations:                   59\n",
       "Model:             SARIMAX(0, 1, 0)x(0, 1, [1], 12)   Log Likelihood                 -66.501\n",
       "Date:                              Thu, 25 Nov 2021   AIC                            137.002\n",
       "Time:                                      09:00:47   BIC                            140.659\n",
       "Sample:                                           0   HQIC                           138.372\n",
       "                                               - 59                                         \n",
       "Covariance Type:                                opg                                         \n",
       "==============================================================================\n",
       "                 coef    std err          z      P>|z|      [0.025      0.975]\n",
       "------------------------------------------------------------------------------\n",
       "ma.S.L12      -0.7237      0.213     -3.396      0.001      -1.141      -0.306\n",
       "sigma2         0.8799      0.149      5.912      0.000       0.588       1.172\n",
       "===================================================================================\n",
       "Ljung-Box (L1) (Q):                   1.94   Jarque-Bera (JB):                23.14\n",
       "Prob(Q):                              0.16   Prob(JB):                         0.00\n",
       "Heteroskedasticity (H):               7.64   Skew:                            -1.41\n",
       "Prob(H) (two-sided):                  0.00   Kurtosis:                         5.03\n",
       "===================================================================================\n",
       "\n",
       "Warnings:\n",
       "[1] Covariance matrix calculated using the outer product of gradients (complex-step).\n",
       "\"\"\""
      ]
     },
     "execution_count": 354,
     "metadata": {},
     "output_type": "execute_result"
    }
   ],
   "source": [
    "from pmdarima import auto_arima\n",
    "\n",
    "Sarimax_model = auto_arima(train_data.Popu,\n",
    "                       start_p=0,\n",
    "                       start_q=0,\n",
    "                       max_p=3,\n",
    "                       max_q=3,\n",
    "                       m=12,\n",
    "                       test='adf',\n",
    "                       seasonal=True,\n",
    "                       d=1,\n",
    "                       D=1,\n",
    "                       trace=True,\n",
    "                       error_action='ignore',\n",
    "                       suppress_warnings=True,\n",
    "                       stepwise=True)\n",
    "\n",
    "Sarimax_model.summary()"
   ]
  },
  {
   "cell_type": "code",
   "execution_count": 355,
   "id": "46f6d9b5",
   "metadata": {},
   "outputs": [],
   "source": [
    "from statsmodels.tsa.statespace.sarimax import SARIMAX\n",
    "\n",
    "my_order = (0,1,0)\n",
    "\n",
    "my_seasonal_order = (0, 1, 1, 12)\n",
    "\n",
    "# define model\n",
    "model = SARIMAX(train_data.Popu, order=my_order, seasonal_order=my_seasonal_order)"
   ]
  },
  {
   "cell_type": "code",
   "execution_count": 356,
   "id": "3c09f59d",
   "metadata": {},
   "outputs": [],
   "source": [
    "#fit the model\n",
    "model_fit = model.fit()"
   ]
  },
  {
   "cell_type": "code",
   "execution_count": 357,
   "id": "20494dee",
   "metadata": {},
   "outputs": [
    {
     "name": "stdout",
     "output_type": "stream",
     "text": [
      "                                      SARIMAX Results                                       \n",
      "============================================================================================\n",
      "Dep. Variable:                                 Popu   No. Observations:                   59\n",
      "Model:             SARIMAX(0, 1, 0)x(0, 1, [1], 12)   Log Likelihood                 -66.501\n",
      "Date:                              Thu, 25 Nov 2021   AIC                            137.002\n",
      "Time:                                      09:00:52   BIC                            140.659\n",
      "Sample:                                  02-29-2016   HQIC                           138.372\n",
      "                                       - 12-31-2020                                         \n",
      "Covariance Type:                                opg                                         \n",
      "==============================================================================\n",
      "                 coef    std err          z      P>|z|      [0.025      0.975]\n",
      "------------------------------------------------------------------------------\n",
      "ma.S.L12      -0.7237      0.213     -3.396      0.001      -1.141      -0.306\n",
      "sigma2         0.8799      0.149      5.912      0.000       0.588       1.172\n",
      "===================================================================================\n",
      "Ljung-Box (L1) (Q):                   1.94   Jarque-Bera (JB):                23.14\n",
      "Prob(Q):                              0.16   Prob(JB):                         0.00\n",
      "Heteroskedasticity (H):               7.64   Skew:                            -1.41\n",
      "Prob(H) (two-sided):                  0.00   Kurtosis:                         5.03\n",
      "===================================================================================\n",
      "\n",
      "Warnings:\n",
      "[1] Covariance matrix calculated using the outer product of gradients (complex-step).\n"
     ]
    }
   ],
   "source": [
    "print(model_fit.summary())"
   ]
  },
  {
   "cell_type": "code",
   "execution_count": 358,
   "id": "25f6a954",
   "metadata": {},
   "outputs": [],
   "source": [
    "#get the predictions and residuals\n",
    "predictions = model_fit.forecast(len(test_data.Popu))\n",
    "predictions = pd.Series(predictions, index=test_data.index)\n",
    "residuals = test_data.Popu - predictions"
   ]
  },
  {
   "cell_type": "code",
   "execution_count": 359,
   "id": "15dea4b4",
   "metadata": {},
   "outputs": [
    {
     "data": {
      "text/plain": [
       "date\n",
       "2021-01-31    0.259154\n",
       "2021-02-28    0.259153\n",
       "2021-03-31   -0.190710\n",
       "2021-04-30   -0.190710\n",
       "2021-05-31   -0.494033\n",
       "2021-06-30   -0.264223\n",
       "2021-07-31    0.277417\n",
       "2021-08-31    0.966848\n",
       "2021-09-30    0.966848\n",
       "2021-10-31    0.873023\n",
       "2021-11-30    1.712788\n",
       "Freq: M, dtype: float64"
      ]
     },
     "execution_count": 359,
     "metadata": {},
     "output_type": "execute_result"
    }
   ],
   "source": [
    "residuals"
   ]
  },
  {
   "cell_type": "code",
   "execution_count": 360,
   "id": "fd6ef5dd",
   "metadata": {},
   "outputs": [
    {
     "data": {
      "text/plain": [
       "Text(0, 0.5, 'Error')"
      ]
     },
     "execution_count": 360,
     "metadata": {},
     "output_type": "execute_result"
    },
    {
     "data": {
      "image/png": "[encoded data removed]",
      "text/plain": [
       "<Figure size 720x288 with 1 Axes>"
      ]
     },
     "metadata": {
      "needs_background": "light"
     },
     "output_type": "display_data"
    }
   ],
   "source": [
    "plt.figure(figsize=(10,4))\n",
    "plt.plot(residuals)\n",
    "plt.axhline(0, linestyle='--', color='k')\n",
    "plt.title('Residuals from SARIMA Model', fontsize=20)\n",
    "plt.ylabel('Error', fontsize=16)"
   ]
  },
  {
   "cell_type": "code",
   "execution_count": 361,
   "id": "91bb097e",
   "metadata": {},
   "outputs": [
    {
     "data": {
      "text/plain": [
       "0.3795959565713188"
      ]
     },
     "execution_count": 361,
     "metadata": {},
     "output_type": "execute_result"
    }
   ],
   "source": [
    "residuals.mean()"
   ]
  },
  {
   "cell_type": "code",
   "execution_count": 362,
   "id": "2000bf8c",
   "metadata": {},
   "outputs": [
    {
     "data": {
      "text/plain": [
       "date\n",
       "2021-01-31     8.740846\n",
       "2021-02-28     8.740847\n",
       "2021-03-31    10.190710\n",
       "2021-04-30    10.190710\n",
       "2021-05-31    10.494033\n",
       "2021-06-30    10.264223\n",
       "2021-07-31     9.722583\n",
       "2021-08-31     9.033152\n",
       "2021-09-30     9.033152\n",
       "2021-10-31     9.126977\n",
       "2021-11-30     8.287212\n",
       "Freq: M, Name: predicted_mean, dtype: float64"
      ]
     },
     "execution_count": 362,
     "metadata": {},
     "output_type": "execute_result"
    }
   ],
   "source": [
    "predictions"
   ]
  },
  {
   "cell_type": "code",
   "execution_count": 363,
   "id": "98858745",
   "metadata": {},
   "outputs": [
    {
     "data": {
      "text/plain": [
       "Text(0.5, 0, 'Time')"
      ]
     },
     "execution_count": 363,
     "metadata": {},
     "output_type": "execute_result"
    },
    {
     "data": {
      "image/png": "[encoded data removed]",
      "text/plain": [
       "<Figure size 1152x576 with 1 Axes>"
      ]
     },
     "metadata": {
      "needs_background": "light"
     },
     "output_type": "display_data"
    }
   ],
   "source": [
    "plt.figure(figsize=(16,8))\n",
    "\n",
    "plt.plot(lim_data.Popu, \"b.-\")\n",
    "plt.plot(test_data.Popu, \"ro-\")\n",
    "plt.plot(predictions, \"gx-\")\n",
    "\n",
    "plt.legend(('Train Data', 'Original Test Data', 'Forecast'), fontsize=16)\n",
    "\n",
    "plt.title('Population Forecast', fontsize=20)\n",
    "plt.ylabel('Score', fontsize=16)\n",
    "plt.xlabel('Time', fontsize=16)\n",
    "\n",
    "#for year in range(start_date.year,end_date.year):\n",
    " #   plt.axvline(pd.to_datetime(str(year)+'-01-01'), color='k', linestyle='--', alpha=0.2)"
   ]
  },
  {
   "cell_type": "code",
   "execution_count": 364,
   "id": "515df07d",
   "metadata": {},
   "outputs": [
    {
     "name": "stdout",
     "output_type": "stream",
     "text": [
      "Mean Absolute Percent Error: 0.059\n"
     ]
    }
   ],
   "source": [
    "print('Mean Absolute Percent Error:', round(np.mean(abs(residuals/test_data.Popu)),3))"
   ]
  },
  {
   "cell_type": "code",
   "execution_count": 365,
   "id": "98dfed27",
   "metadata": {},
   "outputs": [
    {
     "name": "stdout",
     "output_type": "stream",
     "text": [
      "Root Mean Squared Error: 0.7485323383240234\n"
     ]
    }
   ],
   "source": [
    "print('Root Mean Squared Error:', np.sqrt(np.mean(residuals**2)))"
   ]
  },
  {
   "cell_type": "code",
   "execution_count": 366,
   "id": "5475ab9d",
   "metadata": {},
   "outputs": [
    {
     "data": {
      "text/plain": [
       "date\n",
       "2021-01-31     9\n",
       "2021-02-28     9\n",
       "2021-03-31    10\n",
       "2021-04-30    10\n",
       "2021-05-31    10\n",
       "2021-06-30    10\n",
       "2021-07-31    10\n",
       "2021-08-31    10\n",
       "2021-09-30    10\n",
       "2021-10-31    10\n",
       "2021-11-30    10\n",
       "Freq: M, Name: Popu, dtype: int64"
      ]
     },
     "execution_count": 366,
     "metadata": {},
     "output_type": "execute_result"
    }
   ],
   "source": [
    "test_data.Popu"
   ]
  },
  {
   "cell_type": "code",
   "execution_count": 367,
   "id": "643d0804",
   "metadata": {},
   "outputs": [
    {
     "data": {
      "text/plain": [
       "date\n",
       "2021-01-31     8.740846\n",
       "2021-02-28     8.740847\n",
       "2021-03-31    10.190710\n",
       "2021-04-30    10.190710\n",
       "2021-05-31    10.494033\n",
       "2021-06-30    10.264223\n",
       "2021-07-31     9.722583\n",
       "2021-08-31     9.033152\n",
       "2021-09-30     9.033152\n",
       "2021-10-31     9.126977\n",
       "2021-11-30     8.287212\n",
       "Freq: M, Name: predicted_mean, dtype: float64"
      ]
     },
     "execution_count": 367,
     "metadata": {},
     "output_type": "execute_result"
    }
   ],
   "source": [
    "predictions"
   ]
  },
  {
   "cell_type": "code",
   "execution_count": 368,
   "id": "532f7396",
   "metadata": {},
   "outputs": [
    {
     "name": "stdout",
     "output_type": "stream",
     "text": [
      "DatetimeIndex(['2021-01-31', '2021-02-28', '2021-03-31', '2021-04-30',\n",
      "               '2021-05-31', '2021-06-30', '2021-07-31', '2021-08-31',\n",
      "               '2021-09-30', '2021-10-31', '2021-11-30'],\n",
      "              dtype='datetime64[ns]', name='date', freq='M')\n"
     ]
    },
    {
     "data": {
      "text/plain": [
       "(59, 7)"
      ]
     },
     "execution_count": 368,
     "metadata": {},
     "output_type": "execute_result"
    }
   ],
   "source": [
    "print(test_data.index)\n",
    "train_data.shape"
   ]
  },
  {
   "cell_type": "code",
   "execution_count": 369,
   "id": "f515562c",
   "metadata": {},
   "outputs": [
    {
     "data": {
      "text/plain": [
       "date\n",
       "2021-01-31     8.740846\n",
       "2021-02-28     9.000001\n",
       "2021-03-31    10.511475\n",
       "2021-04-30    10.000000\n",
       "2021-05-31    10.325629\n",
       "2021-06-30     9.768577\n",
       "2021-07-31     9.457812\n",
       "2021-08-31     9.306242\n",
       "2021-09-30    10.000000\n",
       "2021-10-31    10.077233\n",
       "2021-11-30     9.168819\n",
       "Freq: M, dtype: float64"
      ]
     },
     "execution_count": 369,
     "metadata": {},
     "output_type": "execute_result"
    }
   ],
   "source": [
    "rolling_predictions = []\n",
    "\n",
    "for train_end in test_data.index:\n",
    "    #print(train_end-timedelta(days=1))\n",
    "    train_data1 = lim_data.Popu[:train_end-timedelta(days=1)]\n",
    "    #print(len(train_data1))\n",
    "    model = SARIMAX(train_data1, order=my_order, seasonal_order=my_seasonal_order)\n",
    "    model_fit = model.fit()\n",
    "\n",
    "    pred = model_fit.forecast()\n",
    "    rolling_predictions.append(pred[0])\n",
    "    \n",
    "rolling_predictions = pd.Series(rolling_predictions, index=test_data.index)\n",
    "rolling_predictions"
   ]
  },
  {
   "cell_type": "code",
   "execution_count": 370,
   "id": "14718000",
   "metadata": {},
   "outputs": [
    {
     "data": {
      "text/plain": [
       "date\n",
       "2021-01-31    2.591542e-01\n",
       "2021-02-28   -1.388452e-06\n",
       "2021-03-31   -5.114753e-01\n",
       "2021-04-30   -2.651923e-11\n",
       "2021-05-31   -3.256287e-01\n",
       "2021-06-30    2.314227e-01\n",
       "2021-07-31    5.421884e-01\n",
       "2021-08-31    6.937576e-01\n",
       "2021-09-30   -1.895373e-12\n",
       "2021-10-31   -7.723344e-02\n",
       "2021-11-30    8.311806e-01\n",
       "Freq: M, dtype: float64"
      ]
     },
     "execution_count": 370,
     "metadata": {},
     "output_type": "execute_result"
    }
   ],
   "source": [
    "rolling_residuals = test_data.Popu - rolling_predictions\n",
    "rolling_residuals"
   ]
  },
  {
   "cell_type": "code",
   "execution_count": 371,
   "id": "1b47c78d",
   "metadata": {},
   "outputs": [
    {
     "data": {
      "text/plain": [
       "Text(0, 0.5, 'Error')"
      ]
     },
     "execution_count": 371,
     "metadata": {},
     "output_type": "execute_result"
    },
    {
     "data": {
      "image/png": "[encoded data removed]",
      "text/plain": [
       "<Figure size 720x288 with 1 Axes>"
      ]
     },
     "metadata": {
      "needs_background": "light"
     },
     "output_type": "display_data"
    }
   ],
   "source": [
    "plt.figure(figsize=(10,4))\n",
    "plt.plot(rolling_residuals)\n",
    "plt.axhline(0, linestyle='--', color='k')\n",
    "plt.title('Rolling Forecast Residuals from SARIMA Rolling Model', fontsize=20)\n",
    "plt.ylabel('Error', fontsize=16)"
   ]
  },
  {
   "cell_type": "code",
   "execution_count": 372,
   "id": "494dff80",
   "metadata": {},
   "outputs": [
    {
     "data": {
      "text/plain": [
       "0.14939679144713836"
      ]
     },
     "execution_count": 372,
     "metadata": {},
     "output_type": "execute_result"
    }
   ],
   "source": [
    "rolling_residuals.mean()"
   ]
  },
  {
   "cell_type": "code",
   "execution_count": 373,
   "id": "019958a8",
   "metadata": {},
   "outputs": [
    {
     "data": {
      "text/plain": [
       "Text(0.5, 0, 'Time')"
      ]
     },
     "execution_count": 373,
     "metadata": {},
     "output_type": "execute_result"
    },
    {
     "data": {
      "image/png": "[encoded data removed]",
      "text/plain": [
       "<Figure size 1152x576 with 1 Axes>"
      ]
     },
     "metadata": {
      "needs_background": "light"
     },
     "output_type": "display_data"
    }
   ],
   "source": [
    "   \n",
    "plt.figure(figsize=(16,8))\n",
    "\n",
    "plt.plot(lim_data.Popu, \"b.-\")\n",
    "plt.plot(test_data.Popu, \"ro-\")\n",
    "plt.plot(rolling_predictions, \"gx-\")\n",
    "\n",
    "plt.legend(('Train Data', 'Original Test Data', 'Rolling Forecast'), fontsize=16)\n",
    "\n",
    "plt.title('Population Rolling Forecast', fontsize=20)\n",
    "plt.ylabel('Score', fontsize=16)\n",
    "plt.xlabel('Time', fontsize=16)"
   ]
  },
  {
   "cell_type": "code",
   "execution_count": 374,
   "id": "81e44eca",
   "metadata": {},
   "outputs": [
    {
     "name": "stdout",
     "output_type": "stream",
     "text": [
      "Mean Absolute Percent Error: 0.03\n"
     ]
    }
   ],
   "source": [
    "print('Mean Absolute Percent Error:', round(np.mean(abs(rolling_residuals/test_data.Popu)),2))"
   ]
  },
  {
   "cell_type": "code",
   "execution_count": 375,
   "id": "b0d47090",
   "metadata": {},
   "outputs": [
    {
     "name": "stdout",
     "output_type": "stream",
     "text": [
      "Root Mean Squared Error: 0.422164605994734\n"
     ]
    }
   ],
   "source": [
    "print('Root Mean Squared Error:', np.sqrt(np.mean(rolling_residuals**2)))"
   ]
  }
 ],
 "metadata": {
  "kernelspec": {
   "display_name": "Python 3",
   "language": "python",
   "name": "python3"
  },
  "language_info": {
   "codemirror_mode": {
    "name": "ipython",
    "version": 3
   },
   "file_extension": ".py",
   "mimetype": "text/x-python",
   "name": "python",
   "nbconvert_exporter": "python",
   "pygments_lexer": "ipython3",
   "version": "3.8.8"
  }
 },
 "nbformat": 4,
 "nbformat_minor": 5
}
