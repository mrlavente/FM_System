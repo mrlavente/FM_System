{
 "cells": [
  {
   "cell_type": "code",
   "execution_count": 9,
   "id": "4ca97e2d",
   "metadata": {},
   "outputs": [
    {
     "name": "stdout",
     "output_type": "stream",
     "text": [
      "   Unnamed: 0  report_id                         species_name date_report  \\\n",
      "2           2          3  Raflesia speciosa (Panay Rafflesia)  2021-07-07   \n",
      "3           3          4  Raflesia speciosa (Panay Rafflesia)  2021-07-07   \n",
      "4           4          5  Raflesia speciosa (Panay Rafflesia)  2021-07-29   \n",
      "\n",
      "           location                              site  no_observation  \\\n",
      "2  Sibalom, Antique                   Brgy. Imparayan              25   \n",
      "3  Sibalom, Antique                   Brgy. Imparayan              20   \n",
      "4  Sibalom, Antique  Sitio Igculibao, Brgy.  Cabladan              11   \n",
      "\n",
      "  mode_observation                                            remarks  \\\n",
      "2             Seen  Were observed at plot 4 wherein 5 were healthy...   \n",
      "3             Seen  Were observed at plot 7 wherein 15 has decayed...   \n",
      "4             Seen  11 decayed buds and 8 healthy buds seen at the...   \n",
      "\n",
      "                                      name_observers  coordinates_lat  \\\n",
      "2  PA Personnel and Staff and Arnold Agting (Bant...        10.784576   \n",
      "3  PA Personnel and Staff and Arnold Agting (Bant...        10.786515   \n",
      "4  PA Personnel and Staff and Arnold Agting (Bant...        10.776250   \n",
      "\n",
      "   coordinates_lng  \n",
      "2       122.117906  \n",
      "3       122.120654  \n",
      "4       122.136320  \n"
     ]
    },
    {
     "name": "stderr",
     "output_type": "stream",
     "text": [
      "<ipython-input-9-4eeaa8dc16b8>:17: SettingWithCopyWarning: \n",
      "A value is trying to be set on a copy of a slice from a DataFrame.\n",
      "Try using .loc[row_indexer,col_indexer] = value instead\n",
      "\n",
      "See the caveats in the documentation: https://pandas.pydata.org/pandas-docs/stable/user_guide/indexing.html#returning-a-view-versus-a-copy\n",
      "  data2['coordinates_lat'] = data2['coordinates_lat'].astype(float)\n",
      "<ipython-input-9-4eeaa8dc16b8>:18: SettingWithCopyWarning: \n",
      "A value is trying to be set on a copy of a slice from a DataFrame.\n",
      "Try using .loc[row_indexer,col_indexer] = value instead\n",
      "\n",
      "See the caveats in the documentation: https://pandas.pydata.org/pandas-docs/stable/user_guide/indexing.html#returning-a-view-versus-a-copy\n",
      "  data2['coordinates_lng'] = data2['coordinates_lng'].astype(float)\n",
      "<ipython-input-9-4eeaa8dc16b8>:28: SettingWithCopyWarning: \n",
      "A value is trying to be set on a copy of a slice from a DataFrame.\n",
      "Try using .loc[row_indexer,col_indexer] = value instead\n",
      "\n",
      "See the caveats in the documentation: https://pandas.pydata.org/pandas-docs/stable/user_guide/indexing.html#returning-a-view-versus-a-copy\n",
      "  data3['coordinates_lat'] = data3['coordinates_lat'].astype(float)\n",
      "<ipython-input-9-4eeaa8dc16b8>:29: SettingWithCopyWarning: \n",
      "A value is trying to be set on a copy of a slice from a DataFrame.\n",
      "Try using .loc[row_indexer,col_indexer] = value instead\n",
      "\n",
      "See the caveats in the documentation: https://pandas.pydata.org/pandas-docs/stable/user_guide/indexing.html#returning-a-view-versus-a-copy\n",
      "  data3['coordinates_lng'] = data3['coordinates_lng'].astype(float)\n"
     ]
    },
    {
     "ename": "NameError",
     "evalue": "name 'HeatMap3' is not defined",
     "output_type": "error",
     "traceback": [
      "\u001b[1;31m---------------------------------------------------------------------------\u001b[0m",
      "\u001b[1;31mNameError\u001b[0m                                 Traceback (most recent call last)",
      "\u001b[1;32m<ipython-input-9-4eeaa8dc16b8>\u001b[0m in \u001b[0;36m<module>\u001b[1;34m\u001b[0m\n\u001b[0;32m     38\u001b[0m \u001b[1;31m# Plot it on the map\u001b[0m\u001b[1;33m\u001b[0m\u001b[1;33m\u001b[0m\u001b[1;33m\u001b[0m\u001b[0m\n\u001b[0;32m     39\u001b[0m \u001b[0mHeatMap\u001b[0m\u001b[1;33m(\u001b[0m\u001b[0mheat_data\u001b[0m\u001b[1;33m,\u001b[0m \u001b[0mname\u001b[0m\u001b[1;33m=\u001b[0m\u001b[1;34m\"raflesia\"\u001b[0m\u001b[1;33m)\u001b[0m\u001b[1;33m.\u001b[0m\u001b[0madd_to\u001b[0m\u001b[1;33m(\u001b[0m\u001b[0mHmap\u001b[0m\u001b[1;33m)\u001b[0m\u001b[1;33m\u001b[0m\u001b[1;33m\u001b[0m\u001b[0m\n\u001b[1;32m---> 40\u001b[1;33m \u001b[0mHeatMap3\u001b[0m\u001b[1;33m(\u001b[0m\u001b[0mheat_data3\u001b[0m\u001b[1;33m)\u001b[0m\u001b[1;33m.\u001b[0m\u001b[0madd_to\u001b[0m\u001b[1;33m(\u001b[0m\u001b[0mHmap\u001b[0m\u001b[1;33m)\u001b[0m\u001b[1;33m\u001b[0m\u001b[1;33m\u001b[0m\u001b[0m\n\u001b[0m\u001b[0;32m     41\u001b[0m \u001b[0mfolium\u001b[0m\u001b[1;33m.\u001b[0m\u001b[0mLayerControl\u001b[0m\u001b[1;33m(\u001b[0m\u001b[1;33m)\u001b[0m\u001b[1;33m.\u001b[0m\u001b[0madd_to\u001b[0m\u001b[1;33m(\u001b[0m\u001b[0mHmap\u001b[0m\u001b[1;33m)\u001b[0m\u001b[1;33m\u001b[0m\u001b[1;33m\u001b[0m\u001b[0m\n\u001b[0;32m     42\u001b[0m \u001b[1;33m\u001b[0m\u001b[0m\n",
      "\u001b[1;31mNameError\u001b[0m: name 'HeatMap3' is not defined"
     ]
    }
   ],
   "source": [
    "from folium import plugins\n",
    "import folium\n",
    "import pandas as pd\n",
    "import numpy as np\n",
    "from folium.plugins import HeatMap\n",
    "\n",
    "data = pd.read_csv('data.csv')\n",
    "data2 = data[data['species_name'] == \"Raflesia speciosa (Panay Rafflesia)\"]\n",
    "data3 = data[data['species_name'] == \"Sus cebifrons (Visayan Warty Pig)\"]\n",
    "print(data2)\n",
    "\n",
    "Hmap = folium.Map(location=[11.102947, 122.516279],\n",
    "                    zoom_start = 10, tiles='Stamen Terrain') \n",
    "\n",
    "# Ensure you're handing it floats\n",
    "\n",
    "data2['coordinates_lat'] = data2['coordinates_lat'].astype(float)\n",
    "data2['coordinates_lng'] = data2['coordinates_lng'].astype(float)\n",
    "\n",
    "# Filter the DF for rows, then columns, then remove NaNs\n",
    "\n",
    "heat_df =data2\n",
    "heat_df = heat_df[['coordinates_lat', 'coordinates_lng']]\n",
    "heat_df = heat_df.dropna(axis=0, subset=['coordinates_lat','coordinates_lng'])\n",
    "\n",
    "heat_data = [[row['coordinates_lat'],row['coordinates_lng']] for index, row in heat_df.iterrows()]\n",
    "\n",
    "data3['coordinates_lat'] = data3['coordinates_lat'].astype(float)\n",
    "data3['coordinates_lng'] = data3['coordinates_lng'].astype(float)\n",
    "\n",
    "# Filter the DF for rows, then columns, then remove NaNs\n",
    "\n",
    "heat_df3 =data3\n",
    "heat_df3 = heat_df3[['coordinates_lat', 'coordinates_lng']]\n",
    "heat_df3 = heat_df3.dropna(axis=0, subset=['coordinates_lat','coordinates_lng'])\n",
    "\n",
    "heat_data3 = [[row['coordinates_lat'],row['coordinates_lng']] for index, row in heat_df.iterrows()]\n",
    "# Plot it on the map\n",
    "HeatMap(heat_data, name=\"raflesia\").add_to(Hmap)\n",
    "HeatMap(heat_data3, name=\"Warty\").add_to(Hmap)\n",
    "folium.LayerControl().add_to(Hmap)\n",
    "\n",
    "# Display the map\n",
    "Hmap\n",
    "\n"
   ]
  },
  {
   "cell_type": "code",
   "execution_count": null,
   "id": "bddcb282",
   "metadata": {},
   "outputs": [],
   "source": []
  }
 ],
 "metadata": {
  "kernelspec": {
   "display_name": "Python 3",
   "language": "python",
   "name": "python3"
  },
  "language_info": {
   "codemirror_mode": {
    "name": "ipython",
    "version": 3
   },
   "file_extension": ".py",
   "mimetype": "text/x-python",
   "name": "python",
   "nbconvert_exporter": "python",
   "pygments_lexer": "ipython3",
   "version": "3.8.8"
  }
 },
 "nbformat": 4,
 "nbformat_minor": 5
}
