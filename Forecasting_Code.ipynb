{
 "cells": [
  {
   "cell_type": "code",
   "execution_count": 6,
   "id": "f61deea8",
   "metadata": {},
   "outputs": [],
   "source": [
    "import pandas as pd\n",
    "import numpy as np\n",
    "import matplotlib.pylab as plt\n",
    "%matplotlib inline"
   ]
  },
  {
   "cell_type": "code",
   "execution_count": 7,
   "id": "57885dbb",
   "metadata": {},
   "outputs": [
    {
     "name": "stdout",
     "output_type": "stream",
     "text": [
      "         Date  Population  Unnamed: 2  Unnamed: 3\n",
      "0  2017-01-01          20         NaN          12\n",
      "1  2017-02-01          20         NaN          13\n",
      "2  2017-03-01          20         NaN          20\n",
      "3  2017-04-01          23         NaN           7\n",
      "4  2017-05-01          23         NaN          15\n",
      "\n",
      " Data Types:\n",
      "Date           object\n",
      "Population      int64\n",
      "Unnamed: 2    float64\n",
      "Unnamed: 3      int64\n",
      "dtype: object\n"
     ]
    }
   ],
   "source": [
    "data = pd.read_csv('deer.csv')\n",
    "df=data.head()\n",
    "print(df)\n",
    "print ('\\n Data Types:')\n",
    "print (data.dtypes)"
   ]
  },
  {
   "cell_type": "code",
   "execution_count": 8,
   "id": "a97a350d",
   "metadata": {},
   "outputs": [
    {
     "data": {
      "text/plain": [
       "DatetimeIndex(['2017-01-01', '2017-02-01', '2017-03-01', '2017-04-01',\n",
       "               '2017-05-01', '2017-06-01', '2017-07-01', '2017-08-01',\n",
       "               '2017-09-01', '2017-10-01', '2017-11-01', '2017-12-01',\n",
       "               '2018-01-01', '2018-02-01', '2018-03-01', '2018-04-01',\n",
       "               '2018-05-01', '2018-06-01', '2018-07-01', '2018-08-01',\n",
       "               '2018-09-01', '2018-10-01', '2018-11-01', '2018-12-01',\n",
       "               '2019-01-01', '2019-02-01', '2019-03-01', '2019-04-01',\n",
       "               '2019-05-01', '2019-06-01', '2019-07-01', '2019-08-01',\n",
       "               '2019-09-01', '2019-10-01', '2019-11-01', '2019-12-01',\n",
       "               '2020-01-01', '2020-02-01', '2020-03-01', '2020-04-01',\n",
       "               '2020-05-01', '2020-06-01', '2020-07-01', '2020-08-01',\n",
       "               '2020-09-01', '2020-10-01', '2020-11-01', '2020-12-01'],\n",
       "              dtype='datetime64[ns]', name='Date', freq=None)"
      ]
     },
     "execution_count": 8,
     "metadata": {},
     "output_type": "execute_result"
    }
   ],
   "source": [
    "from datetime import datetime\n",
    "con=data['Date']\n",
    "data['Date']=pd.to_datetime(data['Date'])\n",
    "data.set_index('Date', inplace=True)\n",
    "#check datatype of index\n",
    "data.index"
   ]
  },
  {
   "cell_type": "code",
   "execution_count": 5,
   "id": "82d5497c",
   "metadata": {},
   "outputs": [
    {
     "data": {
      "text/plain": [
       "Date\n",
       "2017-03-01    12\n",
       "2017-06-01    13\n",
       "2017-09-01    12\n",
       "2017-12-01    14\n",
       "Name: Population, dtype: int64"
      ]
     },
     "execution_count": 5,
     "metadata": {},
     "output_type": "execute_result"
    }
   ],
   "source": [
    "#convert to time series:\n",
    "ts = data['Population']\n",
    "ts.head(4)"
   ]
  },
  {
   "cell_type": "code",
   "execution_count": 6,
   "id": "6773cdff",
   "metadata": {},
   "outputs": [
    {
     "data": {
      "text/plain": [
       "[<matplotlib.lines.Line2D at 0x21ccc361700>]"
      ]
     },
     "execution_count": 6,
     "metadata": {},
     "output_type": "execute_result"
    },
    {
     "data": {
      "image/png": "[encoded data removed]",
      "text/plain": [
       "<Figure size 432x288 with 1 Axes>"
      ]
     },
     "metadata": {
      "needs_background": "light"
     },
     "output_type": "display_data"
    }
   ],
   "source": [
    "plt.plot(ts)"
   ]
  },
  {
   "cell_type": "code",
   "execution_count": 7,
   "id": "2cbb1181",
   "metadata": {},
   "outputs": [
    {
     "data": {
      "image/png": "[encoded data removed]",
      "text/plain": [
       "<Figure size 432x288 with 1 Axes>"
      ]
     },
     "metadata": {
      "needs_background": "light"
     },
     "output_type": "display_data"
    },
    {
     "name": "stdout",
     "output_type": "stream",
     "text": [
      "Results of Dickey-Fuller Test:\n",
      "Test Statistic                 5.866639\n",
      "p-value                        1.000000\n",
      "#Lags Used                     6.000000\n",
      "Number of Observations Used    9.000000\n",
      "Critical Value (1%)           -4.473135\n",
      "Critical Value (5%)           -3.289881\n",
      "Critical Value (10%)          -2.772382\n",
      "dtype: float64\n"
     ]
    }
   ],
   "source": [
    "from statsmodels.tsa.stattools import adfuller\n",
    "def test_stationarity(timeseries):\n",
    "    \n",
    "    \n",
    "    #Determing rolling statistics\n",
    "    #rolmean = pd.rolling_mean(timeseries, window=12)\n",
    "    rolmean = timeseries.rolling(window=4).mean()\n",
    "    #rolstd = pd.rolling_std(timeseries, window=12)\n",
    "    rolstd = timeseries.rolling(window=4).std()\n",
    " \n",
    "\n",
    "    #Plot rolling statistics:\n",
    "    orig = plt.plot(timeseries, color='blue',label='Original')\n",
    "    mean = plt.plot(rolmean, color='red', label='Rolling Mean')\n",
    "    std = plt.plot(rolstd, color='yellow', label = 'Rolling Std')\n",
    "    plt.legend(loc='best')\n",
    "    plt.title('Rolling Mean & Standard Deviation')\n",
    "    plt.show(block=False)\n",
    "     \n",
    "    #Perform Dickey-Fuller test:\n",
    "    print('Results of Dickey-Fuller Test:')\n",
    "    dftest = adfuller(timeseries, autolag='AIC')\n",
    "    dfoutput = pd.Series(dftest[0:4], index=['Test Statistic','p-value','#Lags Used','Number of Observations Used'])\n",
    "    for key,value in dftest[4].items():\n",
    "        dfoutput['Critical Value (%s)'%key] = value\n",
    "    print(dfoutput)\n",
    " \n",
    "\n",
    "test_stationarity(ts)"
   ]
  },
  {
   "cell_type": "code",
   "execution_count": null,
   "id": "a269a076",
   "metadata": {},
   "outputs": [],
   "source": []
  }
 ],
 "metadata": {
  "kernelspec": {
   "display_name": "Python 3",
   "language": "python",
   "name": "python3"
  },
  "language_info": {
   "codemirror_mode": {
    "name": "ipython",
    "version": 3
   },
   "file_extension": ".py",
   "mimetype": "text/x-python",
   "name": "python",
   "nbconvert_exporter": "python",
   "pygments_lexer": "ipython3",
   "version": "3.8.8"
  }
 },
 "nbformat": 4,
 "nbformat_minor": 5
}
